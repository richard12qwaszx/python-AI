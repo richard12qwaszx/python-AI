{
 "cells": [
  {
   "cell_type": "markdown",
   "metadata": {},
   "source": [
    "## Work\n",
    "1. 請嘗試寫一個 callback 用來記錄各類別在訓練過程中，對驗證集的 True Positive 與 True Negative"
   ]
  },
  {
   "cell_type": "code",
   "execution_count": 1,
   "metadata": {},
   "outputs": [
    {
     "name": "stderr",
     "output_type": "stream",
     "text": [
      "Using TensorFlow backend.\n",
      "C:\\Users\\Richard\\anaconda3\\envs\\finlab\\lib\\site-packages\\tensorflow\\python\\framework\\dtypes.py:516: FutureWarning: Passing (type, 1) or '1type' as a synonym of type is deprecated; in a future version of numpy, it will be understood as (type, (1,)) / '(1,)type'.\n",
      "  _np_qint8 = np.dtype([(\"qint8\", np.int8, 1)])\n",
      "C:\\Users\\Richard\\anaconda3\\envs\\finlab\\lib\\site-packages\\tensorflow\\python\\framework\\dtypes.py:517: FutureWarning: Passing (type, 1) or '1type' as a synonym of type is deprecated; in a future version of numpy, it will be understood as (type, (1,)) / '(1,)type'.\n",
      "  _np_quint8 = np.dtype([(\"quint8\", np.uint8, 1)])\n",
      "C:\\Users\\Richard\\anaconda3\\envs\\finlab\\lib\\site-packages\\tensorflow\\python\\framework\\dtypes.py:518: FutureWarning: Passing (type, 1) or '1type' as a synonym of type is deprecated; in a future version of numpy, it will be understood as (type, (1,)) / '(1,)type'.\n",
      "  _np_qint16 = np.dtype([(\"qint16\", np.int16, 1)])\n",
      "C:\\Users\\Richard\\anaconda3\\envs\\finlab\\lib\\site-packages\\tensorflow\\python\\framework\\dtypes.py:519: FutureWarning: Passing (type, 1) or '1type' as a synonym of type is deprecated; in a future version of numpy, it will be understood as (type, (1,)) / '(1,)type'.\n",
      "  _np_quint16 = np.dtype([(\"quint16\", np.uint16, 1)])\n",
      "C:\\Users\\Richard\\anaconda3\\envs\\finlab\\lib\\site-packages\\tensorflow\\python\\framework\\dtypes.py:520: FutureWarning: Passing (type, 1) or '1type' as a synonym of type is deprecated; in a future version of numpy, it will be understood as (type, (1,)) / '(1,)type'.\n",
      "  _np_qint32 = np.dtype([(\"qint32\", np.int32, 1)])\n",
      "C:\\Users\\Richard\\anaconda3\\envs\\finlab\\lib\\site-packages\\tensorflow\\python\\framework\\dtypes.py:525: FutureWarning: Passing (type, 1) or '1type' as a synonym of type is deprecated; in a future version of numpy, it will be understood as (type, (1,)) / '(1,)type'.\n",
      "  np_resource = np.dtype([(\"resource\", np.ubyte, 1)])\n",
      "C:\\Users\\Richard\\anaconda3\\envs\\finlab\\lib\\site-packages\\tensorboard\\compat\\tensorflow_stub\\dtypes.py:541: FutureWarning: Passing (type, 1) or '1type' as a synonym of type is deprecated; in a future version of numpy, it will be understood as (type, (1,)) / '(1,)type'.\n",
      "  _np_qint8 = np.dtype([(\"qint8\", np.int8, 1)])\n",
      "C:\\Users\\Richard\\anaconda3\\envs\\finlab\\lib\\site-packages\\tensorboard\\compat\\tensorflow_stub\\dtypes.py:542: FutureWarning: Passing (type, 1) or '1type' as a synonym of type is deprecated; in a future version of numpy, it will be understood as (type, (1,)) / '(1,)type'.\n",
      "  _np_quint8 = np.dtype([(\"quint8\", np.uint8, 1)])\n",
      "C:\\Users\\Richard\\anaconda3\\envs\\finlab\\lib\\site-packages\\tensorboard\\compat\\tensorflow_stub\\dtypes.py:543: FutureWarning: Passing (type, 1) or '1type' as a synonym of type is deprecated; in a future version of numpy, it will be understood as (type, (1,)) / '(1,)type'.\n",
      "  _np_qint16 = np.dtype([(\"qint16\", np.int16, 1)])\n",
      "C:\\Users\\Richard\\anaconda3\\envs\\finlab\\lib\\site-packages\\tensorboard\\compat\\tensorflow_stub\\dtypes.py:544: FutureWarning: Passing (type, 1) or '1type' as a synonym of type is deprecated; in a future version of numpy, it will be understood as (type, (1,)) / '(1,)type'.\n",
      "  _np_quint16 = np.dtype([(\"quint16\", np.uint16, 1)])\n",
      "C:\\Users\\Richard\\anaconda3\\envs\\finlab\\lib\\site-packages\\tensorboard\\compat\\tensorflow_stub\\dtypes.py:545: FutureWarning: Passing (type, 1) or '1type' as a synonym of type is deprecated; in a future version of numpy, it will be understood as (type, (1,)) / '(1,)type'.\n",
      "  _np_qint32 = np.dtype([(\"qint32\", np.int32, 1)])\n",
      "C:\\Users\\Richard\\anaconda3\\envs\\finlab\\lib\\site-packages\\tensorboard\\compat\\tensorflow_stub\\dtypes.py:550: FutureWarning: Passing (type, 1) or '1type' as a synonym of type is deprecated; in a future version of numpy, it will be understood as (type, (1,)) / '(1,)type'.\n",
      "  np_resource = np.dtype([(\"resource\", np.ubyte, 1)])\n"
     ]
    }
   ],
   "source": [
    "import os\n",
    "import keras\n",
    "\n",
    "# Disable GPU\n",
    "os.environ[\"CUDA_VISIBLE_DEVICES\"] = \"\""
   ]
  },
  {
   "cell_type": "code",
   "execution_count": 2,
   "metadata": {},
   "outputs": [],
   "source": [
    "train, test = keras.datasets.cifar10.load_data()"
   ]
  },
  {
   "cell_type": "code",
   "execution_count": 3,
   "metadata": {},
   "outputs": [],
   "source": [
    "## 資料前處理\n",
    "def preproc_x(x, flatten=True):\n",
    "    x = x / 255.\n",
    "    if flatten:\n",
    "        x = x.reshape((len(x), -1))\n",
    "    return x\n",
    "\n",
    "def preproc_y(y, num_classes=10):\n",
    "    if y.shape[-1] == 1:\n",
    "        y = keras.utils.to_categorical(y, num_classes)\n",
    "    return y    "
   ]
  },
  {
   "cell_type": "code",
   "execution_count": 4,
   "metadata": {},
   "outputs": [],
   "source": [
    "x_train, y_train = train\n",
    "x_test, y_test = test\n",
    "\n",
    "# Preproc the inputs\n",
    "x_train = preproc_x(x_train)\n",
    "x_test = preproc_x(x_test)\n",
    "\n",
    "# Preprc the outputs\n",
    "y_train = preproc_y(y_train)\n",
    "y_test = preproc_y(y_test)"
   ]
  },
  {
   "cell_type": "code",
   "execution_count": 5,
   "metadata": {},
   "outputs": [],
   "source": [
    "from keras.layers import BatchNormalization\n",
    "def build_mlp(input_shape, output_units=10, num_neurons=[256, 256, 256]):\n",
    "    input_layer = keras.layers.Input(input_shape)\n",
    "    \n",
    "    for i, n_units in enumerate(num_neurons):\n",
    "        if i == 0:\n",
    "            x = keras.layers.Dense(units=n_units, \n",
    "                                   activation=\"relu\", \n",
    "                                   name=\"hidden_layer\"+str(i+1))(input_layer)\n",
    "            x = BatchNormalization()(x)\n",
    "        else:\n",
    "            x = keras.layers.Dense(units=n_units, \n",
    "                                   activation=\"relu\", \n",
    "                                   name=\"hidden_layer\"+str(i+1))(x)\n",
    "            x = BatchNormalization()(x)\n",
    "    \n",
    "    out = keras.layers.Dense(units=output_units, activation=\"softmax\", name=\"output\")(x)\n",
    "    \n",
    "    model = keras.models.Model(inputs=[input_layer], outputs=[out])\n",
    "    return model"
   ]
  },
  {
   "cell_type": "code",
   "execution_count": 6,
   "metadata": {},
   "outputs": [],
   "source": [
    "## 超參數設定\n",
    "LEARNING_RATE = 1e-3\n",
    "EPOCHS = 50\n",
    "BATCH_SIZE = 1024\n",
    "MOMENTUM = 0.95"
   ]
  },
  {
   "cell_type": "code",
   "execution_count": 7,
   "metadata": {},
   "outputs": [],
   "source": [
    "# 載入 Callbacks\n",
    "from keras.callbacks import Callback\n",
    "\n",
    "# Record_fp_tp\n",
    "class Record_tp_tn(Callback):\n",
    "    def on_train_begin(self, epoch, logs = {}):\n",
    "        logs = logs or {}\n",
    "        record_items = [\"val_tp\", \"val_tn\"]\n",
    "        for i in record_items:\n",
    "            if i not in self.params['metrics']:\n",
    "                self.params['metrics'].append(i)\n",
    "    \n",
    "    def on_epoch_end(self, epoch, logs = {}, thres=0.5):\n",
    "        logs = logs or {}\n",
    "        y_true = self.validation_data[1].argmax(axis = 1)\n",
    "        y_pred = self.model.predict(self.validation_data[0])\n",
    "        y_pred = (y_pred[:, 1] >= thres) * 1\n",
    "        \n",
    "        val_tp = sum(y_true*y_pred)\n",
    "        val_tn = sum((y_true==0) & (y_pred==0))\n",
    "        \n",
    "        logs[\"val_tp\"] = val_tp\n",
    "        logs[\"val_tn\"] = val_tn\n",
    "        \n",
    "rec_tptn = Record_tp_tn()"
   ]
  },
  {
   "cell_type": "code",
   "execution_count": 8,
   "metadata": {
    "scrolled": true
   },
   "outputs": [
    {
     "name": "stdout",
     "output_type": "stream",
     "text": [
      "WARNING:tensorflow:From C:\\Users\\Richard\\anaconda3\\envs\\finlab\\lib\\site-packages\\keras\\backend\\tensorflow_backend.py:74: The name tf.get_default_graph is deprecated. Please use tf.compat.v1.get_default_graph instead.\n",
      "\n",
      "WARNING:tensorflow:From C:\\Users\\Richard\\anaconda3\\envs\\finlab\\lib\\site-packages\\keras\\backend\\tensorflow_backend.py:517: The name tf.placeholder is deprecated. Please use tf.compat.v1.placeholder instead.\n",
      "\n",
      "WARNING:tensorflow:From C:\\Users\\Richard\\anaconda3\\envs\\finlab\\lib\\site-packages\\keras\\backend\\tensorflow_backend.py:4138: The name tf.random_uniform is deprecated. Please use tf.random.uniform instead.\n",
      "\n",
      "WARNING:tensorflow:From C:\\Users\\Richard\\anaconda3\\envs\\finlab\\lib\\site-packages\\keras\\backend\\tensorflow_backend.py:133: The name tf.placeholder_with_default is deprecated. Please use tf.compat.v1.placeholder_with_default instead.\n",
      "\n",
      "_________________________________________________________________\n",
      "Layer (type)                 Output Shape              Param #   \n",
      "=================================================================\n",
      "input_1 (InputLayer)         (None, 3072)              0         \n",
      "_________________________________________________________________\n",
      "hidden_layer1 (Dense)        (None, 256)               786688    \n",
      "_________________________________________________________________\n",
      "batch_normalization_1 (Batch (None, 256)               1024      \n",
      "_________________________________________________________________\n",
      "hidden_layer2 (Dense)        (None, 256)               65792     \n",
      "_________________________________________________________________\n",
      "batch_normalization_2 (Batch (None, 256)               1024      \n",
      "_________________________________________________________________\n",
      "hidden_layer3 (Dense)        (None, 256)               65792     \n",
      "_________________________________________________________________\n",
      "batch_normalization_3 (Batch (None, 256)               1024      \n",
      "_________________________________________________________________\n",
      "output (Dense)               (None, 10)                2570      \n",
      "=================================================================\n",
      "Total params: 923,914\n",
      "Trainable params: 922,378\n",
      "Non-trainable params: 1,536\n",
      "_________________________________________________________________\n",
      "WARNING:tensorflow:From C:\\Users\\Richard\\anaconda3\\envs\\finlab\\lib\\site-packages\\keras\\optimizers.py:790: The name tf.train.Optimizer is deprecated. Please use tf.compat.v1.train.Optimizer instead.\n",
      "\n",
      "WARNING:tensorflow:From C:\\Users\\Richard\\anaconda3\\envs\\finlab\\lib\\site-packages\\keras\\backend\\tensorflow_backend.py:3295: The name tf.log is deprecated. Please use tf.math.log instead.\n",
      "\n",
      "WARNING:tensorflow:From C:\\Users\\Richard\\anaconda3\\envs\\finlab\\lib\\site-packages\\tensorflow\\python\\ops\\math_grad.py:1250: add_dispatch_support.<locals>.wrapper (from tensorflow.python.ops.array_ops) is deprecated and will be removed in a future version.\n",
      "Instructions for updating:\n",
      "Use tf.where in 2.0, which has the same broadcast rule as np.where\n",
      "Train on 50000 samples, validate on 10000 samples\n",
      "Epoch 1/50\n",
      "50000/50000 [==============================] - 3s 63us/step - loss: 2.2300 - acc: 0.2640 - val_loss: 2.0882 - val_acc: 0.3065\n",
      "Epoch 2/50\n",
      "50000/50000 [==============================] - 3s 53us/step - loss: 1.7547 - acc: 0.3854 - val_loss: 1.8352 - val_acc: 0.3731\n",
      "Epoch 3/50\n",
      "50000/50000 [==============================] - 3s 53us/step - loss: 1.6251 - acc: 0.4298 - val_loss: 1.7076 - val_acc: 0.4034\n",
      "Epoch 4/50\n",
      "50000/50000 [==============================] - 3s 52us/step - loss: 1.5523 - acc: 0.4560 - val_loss: 1.6265 - val_acc: 0.4311\n",
      "Epoch 5/50\n",
      "50000/50000 [==============================] - 3s 53us/step - loss: 1.5001 - acc: 0.4743 - val_loss: 1.6095 - val_acc: 0.4353\n",
      "Epoch 6/50\n",
      "50000/50000 [==============================] - 3s 54us/step - loss: 1.4582 - acc: 0.4896 - val_loss: 1.5730 - val_acc: 0.4511\n",
      "Epoch 7/50\n",
      "50000/50000 [==============================] - 3s 53us/step - loss: 1.4216 - acc: 0.5040 - val_loss: 1.5436 - val_acc: 0.4587\n",
      "Epoch 8/50\n",
      "50000/50000 [==============================] - 3s 52us/step - loss: 1.3873 - acc: 0.5162 - val_loss: 1.5372 - val_acc: 0.4617\n",
      "Epoch 9/50\n",
      "50000/50000 [==============================] - 3s 53us/step - loss: 1.3587 - acc: 0.5262 - val_loss: 1.5112 - val_acc: 0.4644\n",
      "Epoch 10/50\n",
      "50000/50000 [==============================] - 3s 53us/step - loss: 1.3318 - acc: 0.5368 - val_loss: 1.4910 - val_acc: 0.4708\n",
      "Epoch 11/50\n",
      "50000/50000 [==============================] - 3s 53us/step - loss: 1.3056 - acc: 0.5467 - val_loss: 1.5071 - val_acc: 0.4653\n",
      "Epoch 12/50\n",
      "50000/50000 [==============================] - 3s 52us/step - loss: 1.2834 - acc: 0.5547 - val_loss: 1.4744 - val_acc: 0.4814\n",
      "Epoch 13/50\n",
      "50000/50000 [==============================] - 3s 53us/step - loss: 1.2599 - acc: 0.5627 - val_loss: 1.4731 - val_acc: 0.4819\n",
      "Epoch 14/50\n",
      "50000/50000 [==============================] - 3s 53us/step - loss: 1.2377 - acc: 0.5702 - val_loss: 1.4666 - val_acc: 0.4812- loss: 1.2360 - acc: 0.57\n",
      "Epoch 15/50\n",
      "50000/50000 [==============================] - 3s 53us/step - loss: 1.2176 - acc: 0.5771 - val_loss: 1.4570 - val_acc: 0.4922\n",
      "Epoch 16/50\n",
      "50000/50000 [==============================] - 3s 52us/step - loss: 1.1975 - acc: 0.5863 - val_loss: 1.4523 - val_acc: 0.4862\n",
      "Epoch 17/50\n",
      "50000/50000 [==============================] - 3s 52us/step - loss: 1.1785 - acc: 0.5938 - val_loss: 1.4660 - val_acc: 0.4843\n",
      "Epoch 18/50\n",
      "50000/50000 [==============================] - 3s 53us/step - loss: 1.1595 - acc: 0.5993 - val_loss: 1.4506 - val_acc: 0.4913\n",
      "Epoch 19/50\n",
      "50000/50000 [==============================] - 3s 53us/step - loss: 1.1414 - acc: 0.6061 - val_loss: 1.4446 - val_acc: 0.4946\n",
      "Epoch 20/50\n",
      "50000/50000 [==============================] - 3s 52us/step - loss: 1.1243 - acc: 0.6121 - val_loss: 1.4436 - val_acc: 0.4945\n",
      "Epoch 21/50\n",
      "50000/50000 [==============================] - 3s 53us/step - loss: 1.1061 - acc: 0.6187 - val_loss: 1.4367 - val_acc: 0.4982\n",
      "Epoch 22/50\n",
      "50000/50000 [==============================] - 3s 53us/step - loss: 1.0909 - acc: 0.6243 - val_loss: 1.4428 - val_acc: 0.4931\n",
      "Epoch 23/50\n",
      "50000/50000 [==============================] - 3s 53us/step - loss: 1.0719 - acc: 0.6324 - val_loss: 1.4523 - val_acc: 0.4963\n",
      "Epoch 24/50\n",
      "50000/50000 [==============================] - 3s 53us/step - loss: 1.0556 - acc: 0.6402 - val_loss: 1.4368 - val_acc: 0.4960\n",
      "Epoch 25/50\n",
      "50000/50000 [==============================] - 3s 53us/step - loss: 1.0391 - acc: 0.6435 - val_loss: 1.4445 - val_acc: 0.4950\n",
      "Epoch 26/50\n",
      "50000/50000 [==============================] - 3s 53us/step - loss: 1.0245 - acc: 0.6496 - val_loss: 1.4495 - val_acc: 0.4965\n",
      "Epoch 27/50\n",
      "50000/50000 [==============================] - 3s 53us/step - loss: 1.0079 - acc: 0.6555 - val_loss: 1.4460 - val_acc: 0.4942\n",
      "Epoch 28/50\n",
      "50000/50000 [==============================] - 3s 52us/step - loss: 0.9931 - acc: 0.6606 - val_loss: 1.4455 - val_acc: 0.5013\n",
      "Epoch 29/50\n",
      "50000/50000 [==============================] - 3s 53us/step - loss: 0.9769 - acc: 0.6675 - val_loss: 1.4543 - val_acc: 0.4984\n",
      "Epoch 30/50\n",
      "50000/50000 [==============================] - 3s 53us/step - loss: 0.9614 - acc: 0.6736 - val_loss: 1.4449 - val_acc: 0.5008\n",
      "Epoch 31/50\n",
      "50000/50000 [==============================] - 3s 53us/step - loss: 0.9464 - acc: 0.6791 - val_loss: 1.4467 - val_acc: 0.5023\n",
      "Epoch 32/50\n",
      "50000/50000 [==============================] - 3s 53us/step - loss: 0.9306 - acc: 0.6874 - val_loss: 1.4583 - val_acc: 0.4999\n",
      "Epoch 33/50\n",
      "50000/50000 [==============================] - 3s 53us/step - loss: 0.9167 - acc: 0.6918 - val_loss: 1.4665 - val_acc: 0.4920\n",
      "Epoch 34/50\n",
      "50000/50000 [==============================] - 3s 53us/step - loss: 0.9028 - acc: 0.6972 - val_loss: 1.4585 - val_acc: 0.5051\n",
      "Epoch 35/50\n",
      "50000/50000 [==============================] - 3s 52us/step - loss: 0.8891 - acc: 0.7015 - val_loss: 1.4659 - val_acc: 0.5032\n",
      "Epoch 36/50\n",
      "50000/50000 [==============================] - 3s 53us/step - loss: 0.8736 - acc: 0.7096 - val_loss: 1.4689 - val_acc: 0.5018\n",
      "Epoch 37/50\n",
      "50000/50000 [==============================] - 3s 53us/step - loss: 0.8587 - acc: 0.7152 - val_loss: 1.4795 - val_acc: 0.4986\n",
      "Epoch 38/50\n",
      "50000/50000 [==============================] - 3s 53us/step - loss: 0.8447 - acc: 0.7196 - val_loss: 1.4750 - val_acc: 0.5008\n",
      "Epoch 39/50\n",
      "50000/50000 [==============================] - 3s 53us/step - loss: 0.8306 - acc: 0.7247 - val_loss: 1.4732 - val_acc: 0.5020\n",
      "Epoch 40/50\n",
      "50000/50000 [==============================] - 3s 52us/step - loss: 0.8177 - acc: 0.7289 - val_loss: 1.4867 - val_acc: 0.4993\n",
      "Epoch 41/50\n",
      "50000/50000 [==============================] - 3s 53us/step - loss: 0.8053 - acc: 0.7356 - val_loss: 1.4970 - val_acc: 0.5026\n",
      "Epoch 42/50\n",
      "50000/50000 [==============================] - 3s 53us/step - loss: 0.7887 - acc: 0.7423 - val_loss: 1.5003 - val_acc: 0.4969\n",
      "Epoch 43/50\n",
      "50000/50000 [==============================] - 3s 53us/step - loss: 0.7753 - acc: 0.7473 - val_loss: 1.5094 - val_acc: 0.4989\n",
      "Epoch 44/50\n",
      "50000/50000 [==============================] - 3s 53us/step - loss: 0.7648 - acc: 0.7501 - val_loss: 1.5170 - val_acc: 0.5014\n",
      "Epoch 45/50\n",
      "50000/50000 [==============================] - 3s 52us/step - loss: 0.7495 - acc: 0.7563 - val_loss: 1.5086 - val_acc: 0.5024\n",
      "Epoch 46/50\n",
      "50000/50000 [==============================] - 3s 53us/step - loss: 0.7345 - acc: 0.7632 - val_loss: 1.5158 - val_acc: 0.4980\n",
      "Epoch 47/50\n",
      "50000/50000 [==============================] - 3s 53us/step - loss: 0.7209 - acc: 0.7677 - val_loss: 1.5255 - val_acc: 0.4990\n",
      "Epoch 48/50\n",
      "50000/50000 [==============================] - 3s 53us/step - loss: 0.7086 - acc: 0.7738 - val_loss: 1.5407 - val_acc: 0.4938\n",
      "Epoch 49/50\n",
      "50000/50000 [==============================] - 3s 52us/step - loss: 0.6957 - acc: 0.7775 - val_loss: 1.5574 - val_acc: 0.5017\n",
      "Epoch 50/50\n",
      "50000/50000 [==============================] - 3s 52us/step - loss: 0.6837 - acc: 0.7836 - val_loss: 1.5421 - val_acc: 0.4984\n"
     ]
    }
   ],
   "source": [
    "model = build_mlp(input_shape=x_train.shape[1:])\n",
    "model.summary()\n",
    "optimizer = keras.optimizers.SGD(lr=LEARNING_RATE, nesterov=True, momentum=MOMENTUM)\n",
    "model.compile(loss=\"categorical_crossentropy\", metrics=[\"accuracy\"], optimizer=optimizer)\n",
    "\n",
    "model.fit(x_train, y_train, \n",
    "          epochs=EPOCHS, \n",
    "          batch_size=BATCH_SIZE, \n",
    "          validation_data=(x_test, y_test), \n",
    "          shuffle=True,\n",
    "          callbacks=[rec_tptn]\n",
    "         )\n",
    "\n",
    "# Collect results\n",
    "train_loss = model.history.history[\"loss\"]\n",
    "valid_loss = model.history.history[\"val_loss\"]\n",
    "train_acc = model.history.history[\"acc\"]\n",
    "valid_acc = model.history.history[\"val_acc\"]\n",
    "\n",
    "valid_tp = model.history.history['val_tp']\n",
    "valid_tn = model.history.history['val_tn']"
   ]
  },
  {
   "cell_type": "code",
   "execution_count": 9,
   "metadata": {},
   "outputs": [
    {
     "data": {
      "image/png": "[encoded data removed]",
      "text/plain": [
       "<Figure size 432x288 with 1 Axes>"
      ]
     },
     "metadata": {
      "needs_background": "light"
     },
     "output_type": "display_data"
    },
    {
     "data": {
      "image/png": "[encoded data removed]",
      "text/plain": [
       "<Figure size 432x288 with 1 Axes>"
      ]
     },
     "metadata": {
      "needs_background": "light"
     },
     "output_type": "display_data"
    },
    {
     "data": {
      "image/png": "[encoded data removed]",
      "text/plain": [
       "<Figure size 432x288 with 1 Axes>"
      ]
     },
     "metadata": {
      "needs_background": "light"
     },
     "output_type": "display_data"
    }
   ],
   "source": [
    "import matplotlib.pyplot as plt\n",
    "%matplotlib inline\n",
    "\n",
    "plt.plot(range(len(train_loss)), train_loss, label=\"train loss\")\n",
    "plt.plot(range(len(valid_loss)), valid_loss, label=\"valid loss\")\n",
    "plt.legend()\n",
    "plt.title(\"Loss\")\n",
    "plt.show()\n",
    "\n",
    "plt.plot(range(len(train_acc)), train_acc, label=\"train accuracy\")\n",
    "plt.plot(range(len(valid_acc)), valid_acc, label=\"valid accuracy\")\n",
    "plt.legend()\n",
    "plt.title(\"Accuracy\")\n",
    "plt.show()\n",
    "\n",
    "plt.plot(range(len(valid_tp)), valid_tp, label=\"valid tp\", color=\"navy\")\n",
    "plt.plot(range(len(valid_tn)), valid_tn, label=\"valid tn\", color=\"red\")\n",
    "plt.legend()\n",
    "plt.title(\"True positives and True Negatives\")\n",
    "plt.show()\n"
   ]
  },
  {
   "cell_type": "code",
   "execution_count": null,
   "metadata": {},
   "outputs": [],
   "source": []
  }
 ],
 "metadata": {
  "kernelspec": {
   "display_name": "finlab",
   "language": "python",
   "name": "finlab"
  },
  "language_info": {
   "codemirror_mode": {
    "name": "ipython",
    "version": 3
   },
   "file_extension": ".py",
   "mimetype": "text/x-python",
   "name": "python",
   "nbconvert_exporter": "python",
   "pygments_lexer": "ipython3",
   "version": "3.6.12"
  }
 },
 "nbformat": 4,
 "nbformat_minor": 4
}
