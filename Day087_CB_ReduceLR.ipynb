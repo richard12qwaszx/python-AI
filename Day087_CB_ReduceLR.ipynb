{
 "cells": [
  {
   "cell_type": "markdown",
   "metadata": {},
   "source": [
    "## 範例重點\n",
    "* 學習如何在 keras 中加入 reduce learning rate\n",
    "* 知道如何設定 reduce_lr 的監控目標\n",
    "* 比較使用有無使用 reduce_lr 時的 performance"
   ]
  },
  {
   "cell_type": "code",
   "execution_count": 1,
   "metadata": {},
   "outputs": [
    {
     "name": "stderr",
     "output_type": "stream",
     "text": [
      "Using TensorFlow backend.\n",
      "C:\\Users\\Richard\\anaconda3\\envs\\finlab\\lib\\site-packages\\tensorflow\\python\\framework\\dtypes.py:516: FutureWarning: Passing (type, 1) or '1type' as a synonym of type is deprecated; in a future version of numpy, it will be understood as (type, (1,)) / '(1,)type'.\n",
      "  _np_qint8 = np.dtype([(\"qint8\", np.int8, 1)])\n",
      "C:\\Users\\Richard\\anaconda3\\envs\\finlab\\lib\\site-packages\\tensorflow\\python\\framework\\dtypes.py:517: FutureWarning: Passing (type, 1) or '1type' as a synonym of type is deprecated; in a future version of numpy, it will be understood as (type, (1,)) / '(1,)type'.\n",
      "  _np_quint8 = np.dtype([(\"quint8\", np.uint8, 1)])\n",
      "C:\\Users\\Richard\\anaconda3\\envs\\finlab\\lib\\site-packages\\tensorflow\\python\\framework\\dtypes.py:518: FutureWarning: Passing (type, 1) or '1type' as a synonym of type is deprecated; in a future version of numpy, it will be understood as (type, (1,)) / '(1,)type'.\n",
      "  _np_qint16 = np.dtype([(\"qint16\", np.int16, 1)])\n",
      "C:\\Users\\Richard\\anaconda3\\envs\\finlab\\lib\\site-packages\\tensorflow\\python\\framework\\dtypes.py:519: FutureWarning: Passing (type, 1) or '1type' as a synonym of type is deprecated; in a future version of numpy, it will be understood as (type, (1,)) / '(1,)type'.\n",
      "  _np_quint16 = np.dtype([(\"quint16\", np.uint16, 1)])\n",
      "C:\\Users\\Richard\\anaconda3\\envs\\finlab\\lib\\site-packages\\tensorflow\\python\\framework\\dtypes.py:520: FutureWarning: Passing (type, 1) or '1type' as a synonym of type is deprecated; in a future version of numpy, it will be understood as (type, (1,)) / '(1,)type'.\n",
      "  _np_qint32 = np.dtype([(\"qint32\", np.int32, 1)])\n",
      "C:\\Users\\Richard\\anaconda3\\envs\\finlab\\lib\\site-packages\\tensorflow\\python\\framework\\dtypes.py:525: FutureWarning: Passing (type, 1) or '1type' as a synonym of type is deprecated; in a future version of numpy, it will be understood as (type, (1,)) / '(1,)type'.\n",
      "  np_resource = np.dtype([(\"resource\", np.ubyte, 1)])\n",
      "C:\\Users\\Richard\\anaconda3\\envs\\finlab\\lib\\site-packages\\tensorboard\\compat\\tensorflow_stub\\dtypes.py:541: FutureWarning: Passing (type, 1) or '1type' as a synonym of type is deprecated; in a future version of numpy, it will be understood as (type, (1,)) / '(1,)type'.\n",
      "  _np_qint8 = np.dtype([(\"qint8\", np.int8, 1)])\n",
      "C:\\Users\\Richard\\anaconda3\\envs\\finlab\\lib\\site-packages\\tensorboard\\compat\\tensorflow_stub\\dtypes.py:542: FutureWarning: Passing (type, 1) or '1type' as a synonym of type is deprecated; in a future version of numpy, it will be understood as (type, (1,)) / '(1,)type'.\n",
      "  _np_quint8 = np.dtype([(\"quint8\", np.uint8, 1)])\n",
      "C:\\Users\\Richard\\anaconda3\\envs\\finlab\\lib\\site-packages\\tensorboard\\compat\\tensorflow_stub\\dtypes.py:543: FutureWarning: Passing (type, 1) or '1type' as a synonym of type is deprecated; in a future version of numpy, it will be understood as (type, (1,)) / '(1,)type'.\n",
      "  _np_qint16 = np.dtype([(\"qint16\", np.int16, 1)])\n",
      "C:\\Users\\Richard\\anaconda3\\envs\\finlab\\lib\\site-packages\\tensorboard\\compat\\tensorflow_stub\\dtypes.py:544: FutureWarning: Passing (type, 1) or '1type' as a synonym of type is deprecated; in a future version of numpy, it will be understood as (type, (1,)) / '(1,)type'.\n",
      "  _np_quint16 = np.dtype([(\"quint16\", np.uint16, 1)])\n",
      "C:\\Users\\Richard\\anaconda3\\envs\\finlab\\lib\\site-packages\\tensorboard\\compat\\tensorflow_stub\\dtypes.py:545: FutureWarning: Passing (type, 1) or '1type' as a synonym of type is deprecated; in a future version of numpy, it will be understood as (type, (1,)) / '(1,)type'.\n",
      "  _np_qint32 = np.dtype([(\"qint32\", np.int32, 1)])\n",
      "C:\\Users\\Richard\\anaconda3\\envs\\finlab\\lib\\site-packages\\tensorboard\\compat\\tensorflow_stub\\dtypes.py:550: FutureWarning: Passing (type, 1) or '1type' as a synonym of type is deprecated; in a future version of numpy, it will be understood as (type, (1,)) / '(1,)type'.\n",
      "  np_resource = np.dtype([(\"resource\", np.ubyte, 1)])\n"
     ]
    }
   ],
   "source": [
    "import os\n",
    "import keras\n",
    "\n",
    "# 本範例不需使用 GPU, 將 GPU 設定為 \"無\"\n",
    "os.environ[\"CUDA_VISIBLE_DEVICES\"] = \"0\""
   ]
  },
  {
   "cell_type": "code",
   "execution_count": 2,
   "metadata": {},
   "outputs": [],
   "source": [
    "train, test = keras.datasets.cifar10.load_data()"
   ]
  },
  {
   "cell_type": "code",
   "execution_count": 3,
   "metadata": {},
   "outputs": [],
   "source": [
    "## 資料前處理\n",
    "def preproc_x(x, flatten=True):\n",
    "    x = x / 255.\n",
    "    if flatten:\n",
    "        x = x.reshape((len(x), -1))\n",
    "    return x\n",
    "\n",
    "def preproc_y(y, num_classes=10):\n",
    "    if y.shape[-1] == 1:\n",
    "        y = keras.utils.to_categorical(y, num_classes)\n",
    "    return y    "
   ]
  },
  {
   "cell_type": "code",
   "execution_count": 4,
   "metadata": {},
   "outputs": [],
   "source": [
    "x_train, y_train = train\n",
    "x_test, y_test = test\n",
    "\n",
    "# 資料前處理 - X 標準化\n",
    "x_train = preproc_x(x_train)\n",
    "x_test = preproc_x(x_test)\n",
    "\n",
    "# 資料前處理 -Y 轉成 onehot\n",
    "y_train = preproc_y(y_train)\n",
    "y_test = preproc_y(y_test)"
   ]
  },
  {
   "cell_type": "code",
   "execution_count": 5,
   "metadata": {},
   "outputs": [],
   "source": [
    "from keras.layers import BatchNormalization\n",
    "\n",
    "\"\"\"\n",
    "建立神經網路，並加入 BN layer\n",
    "\"\"\"\n",
    "def build_mlp(input_shape, output_units=10, num_neurons=[512, 256, 128]):\n",
    "    input_layer = keras.layers.Input(input_shape)\n",
    "    \n",
    "    for i, n_units in enumerate(num_neurons):\n",
    "        if i == 0:\n",
    "            x = keras.layers.Dense(units=n_units, \n",
    "                                   activation=\"relu\", \n",
    "                                   name=\"hidden_layer\"+str(i+1))(input_layer)\n",
    "            x = BatchNormalization()(x)\n",
    "        else:\n",
    "            x = keras.layers.Dense(units=n_units, \n",
    "                                   activation=\"relu\", \n",
    "                                   name=\"hidden_layer\"+str(i+1))(x)\n",
    "            x = BatchNormalization()(x)\n",
    "    \n",
    "    out = keras.layers.Dense(units=output_units, activation=\"softmax\", name=\"output\")(x)\n",
    "    \n",
    "    model = keras.models.Model(inputs=[input_layer], outputs=[out])\n",
    "    return model"
   ]
  },
  {
   "cell_type": "code",
   "execution_count": 6,
   "metadata": {},
   "outputs": [],
   "source": [
    "## 超參數設定\n",
    "LEARNING_RATE = 1e-3\n",
    "EPOCHS = 50\n",
    "BATCH_SIZE = 1024\n",
    "MOMENTUM = 0.95"
   ]
  },
  {
   "cell_type": "code",
   "execution_count": 7,
   "metadata": {},
   "outputs": [],
   "source": [
    "\"\"\"\n",
    "# 載入 Callbacks, 並設定監控目標為 validation loss\n",
    "\"\"\"\n",
    "from keras.callbacks import ReduceLROnPlateau\n",
    "\n",
    "reduce_lr = ReduceLROnPlateau(factor=0.5,  \n",
    "                              min_lr=1e-12, \n",
    "                              monitor='val_loss', \n",
    "                              patience=5,  #epochs to wait\n",
    "                              verbose=1)   #print information"
   ]
  },
  {
   "cell_type": "code",
   "execution_count": 8,
   "metadata": {
    "scrolled": true
   },
   "outputs": [
    {
     "name": "stdout",
     "output_type": "stream",
     "text": [
      "WARNING:tensorflow:From C:\\Users\\Richard\\anaconda3\\envs\\finlab\\lib\\site-packages\\keras\\backend\\tensorflow_backend.py:74: The name tf.get_default_graph is deprecated. Please use tf.compat.v1.get_default_graph instead.\n",
      "\n",
      "WARNING:tensorflow:From C:\\Users\\Richard\\anaconda3\\envs\\finlab\\lib\\site-packages\\keras\\backend\\tensorflow_backend.py:517: The name tf.placeholder is deprecated. Please use tf.compat.v1.placeholder instead.\n",
      "\n",
      "WARNING:tensorflow:From C:\\Users\\Richard\\anaconda3\\envs\\finlab\\lib\\site-packages\\keras\\backend\\tensorflow_backend.py:4138: The name tf.random_uniform is deprecated. Please use tf.random.uniform instead.\n",
      "\n",
      "WARNING:tensorflow:From C:\\Users\\Richard\\anaconda3\\envs\\finlab\\lib\\site-packages\\keras\\backend\\tensorflow_backend.py:133: The name tf.placeholder_with_default is deprecated. Please use tf.compat.v1.placeholder_with_default instead.\n",
      "\n",
      "_________________________________________________________________\n",
      "Layer (type)                 Output Shape              Param #   \n",
      "=================================================================\n",
      "input_1 (InputLayer)         (None, 3072)              0         \n",
      "_________________________________________________________________\n",
      "hidden_layer1 (Dense)        (None, 512)               1573376   \n",
      "_________________________________________________________________\n",
      "batch_normalization_1 (Batch (None, 512)               2048      \n",
      "_________________________________________________________________\n",
      "hidden_layer2 (Dense)        (None, 256)               131328    \n",
      "_________________________________________________________________\n",
      "batch_normalization_2 (Batch (None, 256)               1024      \n",
      "_________________________________________________________________\n",
      "hidden_layer3 (Dense)        (None, 128)               32896     \n",
      "_________________________________________________________________\n",
      "batch_normalization_3 (Batch (None, 128)               512       \n",
      "_________________________________________________________________\n",
      "output (Dense)               (None, 10)                1290      \n",
      "=================================================================\n",
      "Total params: 1,742,474\n",
      "Trainable params: 1,740,682\n",
      "Non-trainable params: 1,792\n",
      "_________________________________________________________________\n",
      "WARNING:tensorflow:From C:\\Users\\Richard\\anaconda3\\envs\\finlab\\lib\\site-packages\\keras\\optimizers.py:790: The name tf.train.Optimizer is deprecated. Please use tf.compat.v1.train.Optimizer instead.\n",
      "\n",
      "WARNING:tensorflow:From C:\\Users\\Richard\\anaconda3\\envs\\finlab\\lib\\site-packages\\keras\\backend\\tensorflow_backend.py:3295: The name tf.log is deprecated. Please use tf.math.log instead.\n",
      "\n",
      "WARNING:tensorflow:From C:\\Users\\Richard\\anaconda3\\envs\\finlab\\lib\\site-packages\\tensorflow\\python\\ops\\math_grad.py:1250: add_dispatch_support.<locals>.wrapper (from tensorflow.python.ops.array_ops) is deprecated and will be removed in a future version.\n",
      "Instructions for updating:\n",
      "Use tf.where in 2.0, which has the same broadcast rule as np.where\n",
      "Train on 50000 samples, validate on 10000 samples\n",
      "Epoch 1/50\n",
      "50000/50000 [==============================] - 4s 74us/step - loss: 2.1828 - acc: 0.2719 - val_loss: 2.0206 - val_acc: 0.3163\n",
      "Epoch 2/50\n",
      "50000/50000 [==============================] - 3s 63us/step - loss: 1.7428 - acc: 0.3895 - val_loss: 1.8137 - val_acc: 0.3823\n",
      "Epoch 3/50\n",
      "50000/50000 [==============================] - 3s 62us/step - loss: 1.6209 - acc: 0.4317 - val_loss: 1.7007 - val_acc: 0.4054\n",
      "Epoch 4/50\n",
      "50000/50000 [==============================] - 3s 63us/step - loss: 1.5471 - acc: 0.4567 - val_loss: 1.6554 - val_acc: 0.4220\n",
      "Epoch 5/50\n",
      "50000/50000 [==============================] - 3s 62us/step - loss: 1.4926 - acc: 0.4781 - val_loss: 1.6038 - val_acc: 0.4390\n",
      "Epoch 6/50\n",
      "50000/50000 [==============================] - 3s 63us/step - loss: 1.4467 - acc: 0.4942 - val_loss: 1.5721 - val_acc: 0.4545\n",
      "Epoch 7/50\n",
      "50000/50000 [==============================] - 3s 63us/step - loss: 1.4091 - acc: 0.5086 - val_loss: 1.5619 - val_acc: 0.4589\n",
      "Epoch 8/50\n",
      "50000/50000 [==============================] - 3s 63us/step - loss: 1.3728 - acc: 0.5207 - val_loss: 1.5302 - val_acc: 0.4680\n",
      "Epoch 9/50\n",
      "50000/50000 [==============================] - 3s 63us/step - loss: 1.3401 - acc: 0.5336 - val_loss: 1.5238 - val_acc: 0.4671\n",
      "Epoch 10/50\n",
      "50000/50000 [==============================] - 3s 63us/step - loss: 1.3092 - acc: 0.5435 - val_loss: 1.5049 - val_acc: 0.4753\n",
      "Epoch 11/50\n",
      "50000/50000 [==============================] - 3s 63us/step - loss: 1.2813 - acc: 0.5553 - val_loss: 1.4993 - val_acc: 0.4778\n",
      "Epoch 12/50\n",
      "50000/50000 [==============================] - 3s 63us/step - loss: 1.2556 - acc: 0.5647 - val_loss: 1.5007 - val_acc: 0.4743\n",
      "Epoch 13/50\n",
      "50000/50000 [==============================] - 3s 64us/step - loss: 1.2302 - acc: 0.5730 - val_loss: 1.4908 - val_acc: 0.4831\n",
      "Epoch 14/50\n",
      "50000/50000 [==============================] - 3s 63us/step - loss: 1.2029 - acc: 0.5830 - val_loss: 1.4883 - val_acc: 0.4757\n",
      "Epoch 15/50\n",
      "50000/50000 [==============================] - 3s 63us/step - loss: 1.1797 - acc: 0.5915 - val_loss: 1.4803 - val_acc: 0.4858\n",
      "Epoch 16/50\n",
      "50000/50000 [==============================] - 3s 63us/step - loss: 1.1578 - acc: 0.6003 - val_loss: 1.4772 - val_acc: 0.4885\n",
      "Epoch 17/50\n",
      "50000/50000 [==============================] - 3s 63us/step - loss: 1.1349 - acc: 0.6093 - val_loss: 1.4789 - val_acc: 0.4878\n",
      "Epoch 18/50\n",
      "50000/50000 [==============================] - 3s 63us/step - loss: 1.1111 - acc: 0.6171 - val_loss: 1.4862 - val_acc: 0.4902\n",
      "Epoch 19/50\n",
      "50000/50000 [==============================] - 3s 63us/step - loss: 1.0873 - acc: 0.6277 - val_loss: 1.4631 - val_acc: 0.4949\n",
      "Epoch 20/50\n",
      "50000/50000 [==============================] - 3s 63us/step - loss: 1.0674 - acc: 0.6362 - val_loss: 1.4596 - val_acc: 0.4954\n",
      "Epoch 21/50\n",
      "50000/50000 [==============================] - 3s 63us/step - loss: 1.0421 - acc: 0.6450 - val_loss: 1.4618 - val_acc: 0.4957\n",
      "Epoch 22/50\n",
      "50000/50000 [==============================] - 3s 63us/step - loss: 1.0223 - acc: 0.6516 - val_loss: 1.4637 - val_acc: 0.4942\n",
      "Epoch 23/50\n",
      "50000/50000 [==============================] - 3s 64us/step - loss: 1.0021 - acc: 0.6620 - val_loss: 1.4705 - val_acc: 0.4915\n",
      "Epoch 24/50\n",
      "50000/50000 [==============================] - 3s 63us/step - loss: 0.9803 - acc: 0.6692 - val_loss: 1.4629 - val_acc: 0.4980\n",
      "Epoch 25/50\n",
      "50000/50000 [==============================] - 3s 63us/step - loss: 0.9588 - acc: 0.6775 - val_loss: 1.4748 - val_acc: 0.4948\n",
      "\n",
      "Epoch 00025: ReduceLROnPlateau reducing learning rate to 0.0005000000237487257.\n",
      "Epoch 26/50\n",
      "50000/50000 [==============================] - 3s 63us/step - loss: 0.9317 - acc: 0.6904 - val_loss: 1.4666 - val_acc: 0.5006\n",
      "Epoch 27/50\n",
      "50000/50000 [==============================] - 3s 64us/step - loss: 0.9122 - acc: 0.6968 - val_loss: 1.4667 - val_acc: 0.5012\n",
      "Epoch 28/50\n",
      "50000/50000 [==============================] - 3s 64us/step - loss: 0.9006 - acc: 0.7031 - val_loss: 1.4753 - val_acc: 0.5018\n",
      "Epoch 29/50\n",
      "50000/50000 [==============================] - 3s 64us/step - loss: 0.8899 - acc: 0.7081 - val_loss: 1.4792 - val_acc: 0.5007\n",
      "Epoch 30/50\n",
      "50000/50000 [==============================] - 3s 64us/step - loss: 0.8784 - acc: 0.7118 - val_loss: 1.4774 - val_acc: 0.4990\n",
      "\n",
      "Epoch 00030: ReduceLROnPlateau reducing learning rate to 0.0002500000118743628.\n",
      "Epoch 31/50\n",
      "50000/50000 [==============================] - 3s 66us/step - loss: 0.8627 - acc: 0.7178 - val_loss: 1.4706 - val_acc: 0.5030\n",
      "Epoch 32/50\n",
      "50000/50000 [==============================] - 3s 65us/step - loss: 0.8521 - acc: 0.7222 - val_loss: 1.4751 - val_acc: 0.5006\n",
      "Epoch 33/50\n",
      "50000/50000 [==============================] - 4s 73us/step - loss: 0.8464 - acc: 0.7257 - val_loss: 1.4777 - val_acc: 0.5057\n",
      "Epoch 34/50\n",
      "50000/50000 [==============================] - 3s 64us/step - loss: 0.8402 - acc: 0.7288 - val_loss: 1.4792 - val_acc: 0.5015\n",
      "Epoch 35/50\n",
      "50000/50000 [==============================] - 3s 63us/step - loss: 0.8353 - acc: 0.7295 - val_loss: 1.4813 - val_acc: 0.5025\n",
      "\n",
      "Epoch 00035: ReduceLROnPlateau reducing learning rate to 0.0001250000059371814.\n",
      "Epoch 36/50\n",
      "50000/50000 [==============================] - 3s 63us/step - loss: 0.8275 - acc: 0.7326 - val_loss: 1.4778 - val_acc: 0.5051\n",
      "Epoch 37/50\n",
      "50000/50000 [==============================] - 3s 63us/step - loss: 0.8222 - acc: 0.7367 - val_loss: 1.4818 - val_acc: 0.5037\n",
      "Epoch 38/50\n",
      "50000/50000 [==============================] - 3s 64us/step - loss: 0.8190 - acc: 0.7372 - val_loss: 1.4803 - val_acc: 0.5020\n",
      "Epoch 39/50\n",
      "50000/50000 [==============================] - 3s 64us/step - loss: 0.8159 - acc: 0.7377 - val_loss: 1.4818 - val_acc: 0.5033\n",
      "Epoch 40/50\n",
      "50000/50000 [==============================] - 3s 64us/step - loss: 0.8122 - acc: 0.7395 - val_loss: 1.4830 - val_acc: 0.5042\n",
      "\n",
      "Epoch 00040: ReduceLROnPlateau reducing learning rate to 6.25000029685907e-05.\n",
      "Epoch 41/50\n",
      "50000/50000 [==============================] - 3s 65us/step - loss: 0.8097 - acc: 0.7408 - val_loss: 1.4822 - val_acc: 0.5050\n",
      "Epoch 42/50\n",
      "50000/50000 [==============================] - 3s 63us/step - loss: 0.8059 - acc: 0.7419 - val_loss: 1.4829 - val_acc: 0.5048\n",
      "Epoch 43/50\n",
      "50000/50000 [==============================] - 3s 63us/step - loss: 0.8042 - acc: 0.7423 - val_loss: 1.4841 - val_acc: 0.5037\n",
      "Epoch 44/50\n",
      "50000/50000 [==============================] - 3s 63us/step - loss: 0.8027 - acc: 0.7438 - val_loss: 1.4854 - val_acc: 0.5041\n",
      "Epoch 45/50\n",
      "50000/50000 [==============================] - 3s 63us/step - loss: 0.8015 - acc: 0.7444 - val_loss: 1.4853 - val_acc: 0.5051\n",
      "\n",
      "Epoch 00045: ReduceLROnPlateau reducing learning rate to 3.125000148429535e-05.\n",
      "Epoch 46/50\n",
      "50000/50000 [==============================] - 3s 63us/step - loss: 0.7989 - acc: 0.7457 - val_loss: 1.4846 - val_acc: 0.5040\n",
      "Epoch 47/50\n",
      "50000/50000 [==============================] - 3s 63us/step - loss: 0.7986 - acc: 0.7452 - val_loss: 1.4859 - val_acc: 0.5034\n",
      "Epoch 48/50\n",
      "50000/50000 [==============================] - 3s 63us/step - loss: 0.7969 - acc: 0.7467 - val_loss: 1.4866 - val_acc: 0.5038\n",
      "Epoch 49/50\n",
      "50000/50000 [==============================] - 3s 63us/step - loss: 0.7971 - acc: 0.7466 - val_loss: 1.4864 - val_acc: 0.5053\n",
      "Epoch 50/50\n",
      "50000/50000 [==============================] - 3s 63us/step - loss: 0.7952 - acc: 0.7473 - val_loss: 1.4862 - val_acc: 0.5043\n",
      "\n",
      "Epoch 00050: ReduceLROnPlateau reducing learning rate to 1.5625000742147677e-05.\n"
     ]
    }
   ],
   "source": [
    "model = build_mlp(input_shape=x_train.shape[1:])\n",
    "model.summary()\n",
    "optimizer = keras.optimizers.SGD(lr=LEARNING_RATE, nesterov=True, momentum=MOMENTUM)\n",
    "model.compile(loss=\"categorical_crossentropy\", metrics=[\"accuracy\"], optimizer=optimizer)\n",
    "\n",
    "model.fit(x_train, y_train, \n",
    "          epochs=EPOCHS, \n",
    "          batch_size=BATCH_SIZE, \n",
    "          validation_data=(x_test, y_test), \n",
    "          shuffle=True,\n",
    "          callbacks=[reduce_lr]\n",
    "         )\n",
    "\n",
    "# Collect results\n",
    "train_loss = model.history.history[\"loss\"]\n",
    "valid_loss = model.history.history[\"val_loss\"]\n",
    "train_acc = model.history.history[\"acc\"]\n",
    "valid_acc = model.history.history[\"val_acc\"]"
   ]
  },
  {
   "cell_type": "code",
   "execution_count": 9,
   "metadata": {},
   "outputs": [
    {
     "data": {
      "image/png": "[encoded data removed]",
      "text/plain": [
       "<Figure size 432x288 with 1 Axes>"
      ]
     },
     "metadata": {
      "needs_background": "light"
     },
     "output_type": "display_data"
    },
    {
     "data": {
      "image/png": "[encoded data removed]",
      "text/plain": [
       "<Figure size 432x288 with 1 Axes>"
      ]
     },
     "metadata": {
      "needs_background": "light"
     },
     "output_type": "display_data"
    }
   ],
   "source": [
    "import matplotlib.pyplot as plt\n",
    "%matplotlib inline\n",
    "\n",
    "plt.plot(range(len(train_loss)), train_loss, label=\"train loss\")\n",
    "plt.plot(range(len(valid_loss)), valid_loss, label=\"valid loss\")\n",
    "plt.legend()\n",
    "plt.title(\"Loss\")\n",
    "plt.show()\n",
    "\n",
    "plt.plot(range(len(train_acc)), train_acc, label=\"train accuracy\")\n",
    "plt.plot(range(len(valid_acc)), valid_acc, label=\"valid accuracy\")\n",
    "plt.legend()\n",
    "plt.title(\"Accuracy\")\n",
    "plt.show()"
   ]
  },
  {
   "cell_type": "markdown",
   "metadata": {},
   "source": [
    "## Work\n",
    "1. 請改變 reduce_lr 的 patience 和 factor 並比較不同設定下，對訓練/驗證集的影響\n",
    "2. 請將 optimizer 換成 Adam、RMSprop 搭配 reduce_lr 並比較訓練結果"
   ]
  }
 ],
 "metadata": {
  "kernelspec": {
   "display_name": "finlab",
   "language": "python",
   "name": "finlab"
  },
  "language_info": {
   "codemirror_mode": {
    "name": "ipython",
    "version": 3
   },
   "file_extension": ".py",
   "mimetype": "text/x-python",
   "name": "python",
   "nbconvert_exporter": "python",
   "pygments_lexer": "ipython3",
   "version": "3.6.12"
  }
 },
 "nbformat": 4,
 "nbformat_minor": 4
}
