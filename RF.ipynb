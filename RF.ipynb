{
 "cells": [
  {
   "cell_type": "code",
   "execution_count": 1,
   "metadata": {},
   "outputs": [
    {
     "data": {
      "text/html": [
       "<div>\n",
       "<style scoped>\n",
       "    .dataframe tbody tr th:only-of-type {\n",
       "        vertical-align: middle;\n",
       "    }\n",
       "\n",
       "    .dataframe tbody tr th {\n",
       "        vertical-align: top;\n",
       "    }\n",
       "\n",
       "    .dataframe thead th {\n",
       "        text-align: right;\n",
       "    }\n",
       "</style>\n",
       "<table border=\"1\" class=\"dataframe\">\n",
       "  <thead>\n",
       "    <tr style=\"text-align: right;\">\n",
       "      <th></th>\n",
       "      <th>name</th>\n",
       "      <th>bonus</th>\n",
       "      <th>deferral_payments</th>\n",
       "      <th>deferred_income</th>\n",
       "      <th>director_fees</th>\n",
       "      <th>email_address</th>\n",
       "      <th>exercised_stock_options</th>\n",
       "      <th>expenses</th>\n",
       "      <th>from_messages</th>\n",
       "      <th>from_poi_to_this_person</th>\n",
       "      <th>...</th>\n",
       "      <th>long_term_incentive</th>\n",
       "      <th>other</th>\n",
       "      <th>poi</th>\n",
       "      <th>restricted_stock</th>\n",
       "      <th>restricted_stock_deferred</th>\n",
       "      <th>salary</th>\n",
       "      <th>shared_receipt_with_poi</th>\n",
       "      <th>to_messages</th>\n",
       "      <th>total_payments</th>\n",
       "      <th>total_stock_value</th>\n",
       "    </tr>\n",
       "  </thead>\n",
       "  <tbody>\n",
       "    <tr>\n",
       "      <th>0</th>\n",
       "      <td>RICE KENNETH D</td>\n",
       "      <td>1750000</td>\n",
       "      <td>0</td>\n",
       "      <td>-3504386</td>\n",
       "      <td>0</td>\n",
       "      <td>ken.rice@enron.com</td>\n",
       "      <td>19794175</td>\n",
       "      <td>46950</td>\n",
       "      <td>18</td>\n",
       "      <td>42</td>\n",
       "      <td>...</td>\n",
       "      <td>1617011</td>\n",
       "      <td>174839</td>\n",
       "      <td>True</td>\n",
       "      <td>2748364</td>\n",
       "      <td>0</td>\n",
       "      <td>420636</td>\n",
       "      <td>864</td>\n",
       "      <td>905</td>\n",
       "      <td>505050</td>\n",
       "      <td>22542539</td>\n",
       "    </tr>\n",
       "    <tr>\n",
       "      <th>1</th>\n",
       "      <td>SKILLING JEFFREY K</td>\n",
       "      <td>5600000</td>\n",
       "      <td>0</td>\n",
       "      <td>0</td>\n",
       "      <td>0</td>\n",
       "      <td>jeff.skilling@enron.com</td>\n",
       "      <td>19250000</td>\n",
       "      <td>29336</td>\n",
       "      <td>108</td>\n",
       "      <td>88</td>\n",
       "      <td>...</td>\n",
       "      <td>1920000</td>\n",
       "      <td>22122</td>\n",
       "      <td>True</td>\n",
       "      <td>6843672</td>\n",
       "      <td>0</td>\n",
       "      <td>1111258</td>\n",
       "      <td>2042</td>\n",
       "      <td>3627</td>\n",
       "      <td>8682716</td>\n",
       "      <td>26093672</td>\n",
       "    </tr>\n",
       "    <tr>\n",
       "      <th>2</th>\n",
       "      <td>SHELBY REX</td>\n",
       "      <td>200000</td>\n",
       "      <td>0</td>\n",
       "      <td>-4167</td>\n",
       "      <td>0</td>\n",
       "      <td>rex.shelby@enron.com</td>\n",
       "      <td>1624396</td>\n",
       "      <td>22884</td>\n",
       "      <td>39</td>\n",
       "      <td>13</td>\n",
       "      <td>...</td>\n",
       "      <td>0</td>\n",
       "      <td>1573324</td>\n",
       "      <td>True</td>\n",
       "      <td>869220</td>\n",
       "      <td>0</td>\n",
       "      <td>211844</td>\n",
       "      <td>91</td>\n",
       "      <td>225</td>\n",
       "      <td>2003885</td>\n",
       "      <td>2493616</td>\n",
       "    </tr>\n",
       "    <tr>\n",
       "      <th>3</th>\n",
       "      <td>KOPPER MICHAEL J</td>\n",
       "      <td>800000</td>\n",
       "      <td>0</td>\n",
       "      <td>0</td>\n",
       "      <td>0</td>\n",
       "      <td>michael.kopper@enron.com</td>\n",
       "      <td>0</td>\n",
       "      <td>118134</td>\n",
       "      <td>0</td>\n",
       "      <td>0</td>\n",
       "      <td>...</td>\n",
       "      <td>602671</td>\n",
       "      <td>907502</td>\n",
       "      <td>True</td>\n",
       "      <td>985032</td>\n",
       "      <td>0</td>\n",
       "      <td>224305</td>\n",
       "      <td>0</td>\n",
       "      <td>0</td>\n",
       "      <td>2652612</td>\n",
       "      <td>985032</td>\n",
       "    </tr>\n",
       "    <tr>\n",
       "      <th>4</th>\n",
       "      <td>CALGER CHRISTOPHER F</td>\n",
       "      <td>1250000</td>\n",
       "      <td>0</td>\n",
       "      <td>-262500</td>\n",
       "      <td>0</td>\n",
       "      <td>christopher.calger@enron.com</td>\n",
       "      <td>0</td>\n",
       "      <td>35818</td>\n",
       "      <td>144</td>\n",
       "      <td>199</td>\n",
       "      <td>...</td>\n",
       "      <td>375304</td>\n",
       "      <td>486</td>\n",
       "      <td>True</td>\n",
       "      <td>126027</td>\n",
       "      <td>0</td>\n",
       "      <td>240189</td>\n",
       "      <td>2188</td>\n",
       "      <td>2598</td>\n",
       "      <td>1639297</td>\n",
       "      <td>126027</td>\n",
       "    </tr>\n",
       "  </tbody>\n",
       "</table>\n",
       "<p>5 rows × 22 columns</p>\n",
       "</div>"
      ],
      "text/plain": [
       "                   name    bonus  deferral_payments  deferred_income  \\\n",
       "0        RICE KENNETH D  1750000                  0         -3504386   \n",
       "1    SKILLING JEFFREY K  5600000                  0                0   \n",
       "2            SHELBY REX   200000                  0            -4167   \n",
       "3      KOPPER MICHAEL J   800000                  0                0   \n",
       "4  CALGER CHRISTOPHER F  1250000                  0          -262500   \n",
       "\n",
       "   director_fees                 email_address  exercised_stock_options  \\\n",
       "0              0            ken.rice@enron.com                 19794175   \n",
       "1              0       jeff.skilling@enron.com                 19250000   \n",
       "2              0          rex.shelby@enron.com                  1624396   \n",
       "3              0      michael.kopper@enron.com                        0   \n",
       "4              0  christopher.calger@enron.com                        0   \n",
       "\n",
       "   expenses  from_messages  from_poi_to_this_person  ...  long_term_incentive  \\\n",
       "0     46950             18                       42  ...              1617011   \n",
       "1     29336            108                       88  ...              1920000   \n",
       "2     22884             39                       13  ...                    0   \n",
       "3    118134              0                        0  ...               602671   \n",
       "4     35818            144                      199  ...               375304   \n",
       "\n",
       "     other   poi  restricted_stock  restricted_stock_deferred   salary  \\\n",
       "0   174839  True           2748364                          0   420636   \n",
       "1    22122  True           6843672                          0  1111258   \n",
       "2  1573324  True            869220                          0   211844   \n",
       "3   907502  True            985032                          0   224305   \n",
       "4      486  True            126027                          0   240189   \n",
       "\n",
       "   shared_receipt_with_poi  to_messages  total_payments  total_stock_value  \n",
       "0                      864          905          505050           22542539  \n",
       "1                     2042         3627         8682716           26093672  \n",
       "2                       91          225         2003885            2493616  \n",
       "3                        0            0         2652612             985032  \n",
       "4                     2188         2598         1639297             126027  \n",
       "\n",
       "[5 rows x 22 columns]"
      ]
     },
     "execution_count": 1,
     "metadata": {},
     "output_type": "execute_result"
    }
   ],
   "source": [
    "import pandas as pd\n",
    "df = pd.read_csv('train_data.csv')\n",
    "df.head()"
   ]
  },
  {
   "cell_type": "code",
   "execution_count": 2,
   "metadata": {},
   "outputs": [
    {
     "name": "stdout",
     "output_type": "stream",
     "text": [
      "Index(['name', 'bonus', 'deferral_payments', 'deferred_income',\n",
      "       'director_fees', 'email_address', 'exercised_stock_options', 'expenses',\n",
      "       'from_messages', 'from_poi_to_this_person', 'from_this_person_to_poi',\n",
      "       'loan_advances', 'long_term_incentive', 'other', 'poi',\n",
      "       'restricted_stock', 'restricted_stock_deferred', 'salary',\n",
      "       'shared_receipt_with_poi', 'to_messages', 'total_payments',\n",
      "       'total_stock_value'],\n",
      "      dtype='object')\n"
     ]
    }
   ],
   "source": [
    "features = df.columns\n",
    "print(features)\n",
    "#features=['exercised_stock_options','total_stock_value','other','expenses','total_payments','salary','restricted_stock']\n",
    "#features=['exercised_stock_options','total_stock_value']\n",
    "#特徵欄位\n",
    "dataset_train=pd.read_csv('train_data.csv')\n",
    "dataset_test=pd.read_csv('test_features.csv')"
   ]
  },
  {
   "cell_type": "code",
   "execution_count": 3,
   "metadata": {},
   "outputs": [
    {
     "data": {
      "text/plain": [
       "RandomForestClassifier(min_samples_split=20, n_estimators=250)"
      ]
     },
     "execution_count": 3,
     "metadata": {},
     "output_type": "execute_result"
    }
   ],
   "source": [
    "from sklearn.ensemble import RandomForestClassifier\n",
    "cf = RandomForestClassifier(250)\n",
    "\n",
    "cf = RandomForestClassifier(n_estimators=250,min_samples_split=20)\n",
    "cf.fit(dataset_train[features], dataset_train['poi'])"
   ]
  },
  {
   "cell_type": "code",
   "execution_count": 4,
   "metadata": {},
   "outputs": [
    {
     "name": "stdout",
     "output_type": "stream",
     "text": [
      "[False False False False False False  True False False False False False\n",
      " False False False False False False False False  True False False False\n",
      " False False False False False False False False False]\n"
     ]
    }
   ],
   "source": [
    "import pandas as pd\n",
    "prediction = cf.predict(dataset_test[features])\n",
    "print(prediction)"
   ]
  },
  {
   "cell_type": "code",
   "execution_count": 5,
   "metadata": {},
   "outputs": [
    {
     "data": {
      "text/plain": [
       "total_stock_value          0.229370\n",
       "exercised_stock_options    0.221772\n",
       "salary                     0.131667\n",
       "other                      0.121914\n",
       "restricted_stock           0.115536\n",
       "expenses                   0.107939\n",
       "total_payments             0.071801\n",
       "dtype: float64"
      ]
     },
     "execution_count": 5,
     "metadata": {},
     "output_type": "execute_result"
    }
   ],
   "source": [
    "importance = pd.Series(cf.feature_importances_, index=features).sort_values(ascending=False)\n",
    "importance\n"
   ]
  },
  {
   "cell_type": "code",
   "execution_count": 6,
   "metadata": {},
   "outputs": [
    {
     "data": {
      "text/plain": [
       "<AxesSubplot:>"
      ]
     },
     "execution_count": 6,
     "metadata": {},
     "output_type": "execute_result"
    },
    {
     "data": {
      "image/png": "[encoded data removed]",
      "text/plain": [
       "<Figure size 432x288 with 1 Axes>"
      ]
     },
     "metadata": {
      "needs_background": "light"
     },
     "output_type": "display_data"
    }
   ],
   "source": [
    "import matplotlib.pyplot as plt\n",
    "plt.style.use(\"ggplot\")\n",
    "\n",
    "%matplotlib inline\n",
    "returns1 = dataset_test['poi'][prediction == False]\n",
    "returns2 = dataset_test['poi'][prediction == True]\n",
    "pd.Series(returns1).cumprod().plot(color='red')\n",
    "pd.Series(returns2).cumprod().plot(color='blue')\n",
    "#pd.Series(seasonal_returns2, index=dates).cumprod().plot(color='blue')"
   ]
  },
  {
   "cell_type": "code",
   "execution_count": 7,
   "metadata": {},
   "outputs": [
    {
     "name": "stdout",
     "output_type": "stream",
     "text": [
      "nan\n"
     ]
    },
    {
     "name": "stderr",
     "output_type": "stream",
     "text": [
      "C:\\Users\\Richard\\anaconda3\\envs\\finlab\\lib\\site-packages\\sklearn\\model_selection\\_validation.py:552: FitFailedWarning: Estimator fit failed. The score on this train-test partition for these parameters will be set to nan. Details: \n",
      "Traceback (most recent call last):\n",
      "  File \"C:\\Users\\Richard\\anaconda3\\envs\\finlab\\lib\\site-packages\\sklearn\\model_selection\\_validation.py\", line 531, in _fit_and_score\n",
      "    estimator.fit(X_train, y_train, **fit_params)\n",
      "  File \"C:\\Users\\Richard\\anaconda3\\envs\\finlab\\lib\\site-packages\\sklearn\\ensemble\\_forest.py\", line 330, in fit\n",
      "    y, expanded_class_weight = self._validate_y_class_weight(y)\n",
      "  File \"C:\\Users\\Richard\\anaconda3\\envs\\finlab\\lib\\site-packages\\sklearn\\ensemble\\_forest.py\", line 558, in _validate_y_class_weight\n",
      "    check_classification_targets(y)\n",
      "  File \"C:\\Users\\Richard\\anaconda3\\envs\\finlab\\lib\\site-packages\\sklearn\\utils\\multiclass.py\", line 172, in check_classification_targets\n",
      "    raise ValueError(\"Unknown label type: %r\" % y_type)\n",
      "ValueError: Unknown label type: 'continuous'\n",
      "\n",
      "  FitFailedWarning)\n",
      "C:\\Users\\Richard\\anaconda3\\envs\\finlab\\lib\\site-packages\\sklearn\\model_selection\\_validation.py:552: FitFailedWarning: Estimator fit failed. The score on this train-test partition for these parameters will be set to nan. Details: \n",
      "Traceback (most recent call last):\n",
      "  File \"C:\\Users\\Richard\\anaconda3\\envs\\finlab\\lib\\site-packages\\sklearn\\model_selection\\_validation.py\", line 531, in _fit_and_score\n",
      "    estimator.fit(X_train, y_train, **fit_params)\n",
      "  File \"C:\\Users\\Richard\\anaconda3\\envs\\finlab\\lib\\site-packages\\sklearn\\ensemble\\_forest.py\", line 330, in fit\n",
      "    y, expanded_class_weight = self._validate_y_class_weight(y)\n",
      "  File \"C:\\Users\\Richard\\anaconda3\\envs\\finlab\\lib\\site-packages\\sklearn\\ensemble\\_forest.py\", line 558, in _validate_y_class_weight\n",
      "    check_classification_targets(y)\n",
      "  File \"C:\\Users\\Richard\\anaconda3\\envs\\finlab\\lib\\site-packages\\sklearn\\utils\\multiclass.py\", line 172, in check_classification_targets\n",
      "    raise ValueError(\"Unknown label type: %r\" % y_type)\n",
      "ValueError: Unknown label type: 'continuous'\n",
      "\n",
      "  FitFailedWarning)\n",
      "C:\\Users\\Richard\\anaconda3\\envs\\finlab\\lib\\site-packages\\sklearn\\model_selection\\_validation.py:552: FitFailedWarning: Estimator fit failed. The score on this train-test partition for these parameters will be set to nan. Details: \n",
      "Traceback (most recent call last):\n",
      "  File \"C:\\Users\\Richard\\anaconda3\\envs\\finlab\\lib\\site-packages\\sklearn\\model_selection\\_validation.py\", line 531, in _fit_and_score\n",
      "    estimator.fit(X_train, y_train, **fit_params)\n",
      "  File \"C:\\Users\\Richard\\anaconda3\\envs\\finlab\\lib\\site-packages\\sklearn\\ensemble\\_forest.py\", line 330, in fit\n",
      "    y, expanded_class_weight = self._validate_y_class_weight(y)\n",
      "  File \"C:\\Users\\Richard\\anaconda3\\envs\\finlab\\lib\\site-packages\\sklearn\\ensemble\\_forest.py\", line 558, in _validate_y_class_weight\n",
      "    check_classification_targets(y)\n",
      "  File \"C:\\Users\\Richard\\anaconda3\\envs\\finlab\\lib\\site-packages\\sklearn\\utils\\multiclass.py\", line 172, in check_classification_targets\n",
      "    raise ValueError(\"Unknown label type: %r\" % y_type)\n",
      "ValueError: Unknown label type: 'continuous'\n",
      "\n",
      "  FitFailedWarning)\n",
      "C:\\Users\\Richard\\anaconda3\\envs\\finlab\\lib\\site-packages\\sklearn\\model_selection\\_validation.py:552: FitFailedWarning: Estimator fit failed. The score on this train-test partition for these parameters will be set to nan. Details: \n",
      "Traceback (most recent call last):\n",
      "  File \"C:\\Users\\Richard\\anaconda3\\envs\\finlab\\lib\\site-packages\\sklearn\\model_selection\\_validation.py\", line 531, in _fit_and_score\n",
      "    estimator.fit(X_train, y_train, **fit_params)\n",
      "  File \"C:\\Users\\Richard\\anaconda3\\envs\\finlab\\lib\\site-packages\\sklearn\\ensemble\\_forest.py\", line 330, in fit\n",
      "    y, expanded_class_weight = self._validate_y_class_weight(y)\n",
      "  File \"C:\\Users\\Richard\\anaconda3\\envs\\finlab\\lib\\site-packages\\sklearn\\ensemble\\_forest.py\", line 558, in _validate_y_class_weight\n",
      "    check_classification_targets(y)\n",
      "  File \"C:\\Users\\Richard\\anaconda3\\envs\\finlab\\lib\\site-packages\\sklearn\\utils\\multiclass.py\", line 172, in check_classification_targets\n",
      "    raise ValueError(\"Unknown label type: %r\" % y_type)\n",
      "ValueError: Unknown label type: 'continuous'\n",
      "\n",
      "  FitFailedWarning)\n",
      "C:\\Users\\Richard\\anaconda3\\envs\\finlab\\lib\\site-packages\\sklearn\\model_selection\\_validation.py:552: FitFailedWarning: Estimator fit failed. The score on this train-test partition for these parameters will be set to nan. Details: \n",
      "Traceback (most recent call last):\n",
      "  File \"C:\\Users\\Richard\\anaconda3\\envs\\finlab\\lib\\site-packages\\sklearn\\model_selection\\_validation.py\", line 531, in _fit_and_score\n",
      "    estimator.fit(X_train, y_train, **fit_params)\n",
      "  File \"C:\\Users\\Richard\\anaconda3\\envs\\finlab\\lib\\site-packages\\sklearn\\ensemble\\_forest.py\", line 330, in fit\n",
      "    y, expanded_class_weight = self._validate_y_class_weight(y)\n",
      "  File \"C:\\Users\\Richard\\anaconda3\\envs\\finlab\\lib\\site-packages\\sklearn\\ensemble\\_forest.py\", line 558, in _validate_y_class_weight\n",
      "    check_classification_targets(y)\n",
      "  File \"C:\\Users\\Richard\\anaconda3\\envs\\finlab\\lib\\site-packages\\sklearn\\utils\\multiclass.py\", line 172, in check_classification_targets\n",
      "    raise ValueError(\"Unknown label type: %r\" % y_type)\n",
      "ValueError: Unknown label type: 'continuous'\n",
      "\n",
      "  FitFailedWarning)\n"
     ]
    }
   ],
   "source": [
    "#https://codertw.com/%E7%A8%8B%E5%BC%8F%E8%AA%9E%E8%A8%80/361723/\n",
    "from sklearn.model_selection import cross_val_score\n",
    "#scores = cross_val_score(cf,dataset_test[features], dataset_test['poi'], cv = 10, scoring='precision') \n",
    "scores = cross_val_score(cf,dataset_test[features], dataset_test['poi']) \n",
    "print(scores.mean())"
   ]
  },
  {
   "cell_type": "code",
   "execution_count": null,
   "metadata": {},
   "outputs": [],
   "source": []
  },
  {
   "cell_type": "code",
   "execution_count": null,
   "metadata": {},
   "outputs": [],
   "source": []
  }
 ],
 "metadata": {
  "kernelspec": {
   "display_name": "finlab",
   "language": "python",
   "name": "finlab"
  },
  "language_info": {
   "codemirror_mode": {
    "name": "ipython",
    "version": 3
   },
   "file_extension": ".py",
   "mimetype": "text/x-python",
   "name": "python",
   "nbconvert_exporter": "python",
   "pygments_lexer": "ipython3",
   "version": "3.6.12"
  }
 },
 "nbformat": 4,
 "nbformat_minor": 4
}
