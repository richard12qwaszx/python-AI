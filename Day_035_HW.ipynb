{
 "cells": [
  {
   "cell_type": "markdown",
   "metadata": {},
   "source": [
    "## 練習時間\n",
    "相信大家對回歸問題及分類問題都有初步的了解。今天的作業希望大家搜尋有關 multi-label 的案例問題。下圖是電影 \"奇異博士\" 的分類。可以看到同時有 \"Action\", \"Adventure\", \"Fantasy\" 的類別存在，代表這是個多標籤的問題。 "
   ]
  },
  {
   "cell_type": "markdown",
   "metadata": {},
   "source": [
    "![image](https://cdn-images-1.medium.com/max/1000/1*r0gYXMSQf5VhdMyl2bRDyg.png)"
   ]
  },
  {
   "cell_type": "markdown",
   "metadata": {},
   "source": [
    "## 請搜尋目標為多標籤問題 (Multi-label) 的機器學習案例，了解其資料來源、目標以及評估指標為何\n",
    "## Hint: 服飾"
   ]
  },
  {
   "cell_type": "markdown",
   "metadata": {},
   "source": [
    "#https://codertw.com/%E7%A8%8B%E5%BC%8F%E8%AA%9E%E8%A8%80/516987/\n",
    "資料來源:使用他的app\n",
    "資料集由2167張圖片組成，它們來自6個不同的種類，包括：\n",
    "黑色牛仔褲（344張圖片）\n",
    "\n",
    "藍色裙子（386張圖片）\n",
    "\n",
    "藍色牛仔褲（356張圖片）\n",
    "\n",
    "藍色襯衫（369張圖片）\n",
    "\n",
    "紅色裙子（380張圖片）\n",
    "\n",
    "紅色襯衫（332張圖片）\n",
    "\n",
    "目標:使用者可以上傳一張他們喜歡的服飾的圖片（如襯衫、裙子、褲子、鞋類），系統將會返回相似的物品並附上購買連結\n",
    "\n",
    "評估指標:\n",
    "服飾類別：襯衫、裙子、褲子、鞋類等\n",
    "\n",
    "顏色：紅、藍、黑等\n",
    "\n",
    "質地：棉、羊毛、絲、麻等"
   ]
  },
  {
   "cell_type": "code",
   "execution_count": null,
   "metadata": {},
   "outputs": [],
   "source": []
  }
 ],
 "metadata": {
  "kernelspec": {
   "display_name": "Python 3",
   "language": "python",
   "name": "python3"
  },
  "language_info": {
   "codemirror_mode": {
    "name": "ipython",
    "version": 3
   },
   "file_extension": ".py",
   "mimetype": "text/x-python",
   "name": "python",
   "nbconvert_exporter": "python",
   "pygments_lexer": "ipython3",
   "version": "3.8.3"
  }
 },
 "nbformat": 4,
 "nbformat_minor": 4
}
