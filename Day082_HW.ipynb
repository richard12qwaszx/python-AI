{
 "cells": [
  {
   "cell_type": "markdown",
   "metadata": {},
   "source": [
    "## Work\n",
    "1. 請比較使用不同層數以及不同 Dropout rate 對訓練的效果\n",
    "2. 將 optimizer 改成使用 Adam 並加上適當的 dropout rate 檢視結果"
   ]
  },
  {
   "cell_type": "code",
   "execution_count": 1,
   "metadata": {},
   "outputs": [
    {
     "name": "stderr",
     "output_type": "stream",
     "text": [
      "Using TensorFlow backend.\n",
      "C:\\Users\\Richard\\anaconda3\\envs\\tensorflowgpu\\lib\\site-packages\\tensorflow\\python\\framework\\dtypes.py:523: FutureWarning: Passing (type, 1) or '1type' as a synonym of type is deprecated; in a future version of numpy, it will be understood as (type, (1,)) / '(1,)type'.\n",
      "  _np_qint8 = np.dtype([(\"qint8\", np.int8, 1)])\n",
      "C:\\Users\\Richard\\anaconda3\\envs\\tensorflowgpu\\lib\\site-packages\\tensorflow\\python\\framework\\dtypes.py:524: FutureWarning: Passing (type, 1) or '1type' as a synonym of type is deprecated; in a future version of numpy, it will be understood as (type, (1,)) / '(1,)type'.\n",
      "  _np_quint8 = np.dtype([(\"quint8\", np.uint8, 1)])\n",
      "C:\\Users\\Richard\\anaconda3\\envs\\tensorflowgpu\\lib\\site-packages\\tensorflow\\python\\framework\\dtypes.py:525: FutureWarning: Passing (type, 1) or '1type' as a synonym of type is deprecated; in a future version of numpy, it will be understood as (type, (1,)) / '(1,)type'.\n",
      "  _np_qint16 = np.dtype([(\"qint16\", np.int16, 1)])\n",
      "C:\\Users\\Richard\\anaconda3\\envs\\tensorflowgpu\\lib\\site-packages\\tensorflow\\python\\framework\\dtypes.py:526: FutureWarning: Passing (type, 1) or '1type' as a synonym of type is deprecated; in a future version of numpy, it will be understood as (type, (1,)) / '(1,)type'.\n",
      "  _np_quint16 = np.dtype([(\"quint16\", np.uint16, 1)])\n",
      "C:\\Users\\Richard\\anaconda3\\envs\\tensorflowgpu\\lib\\site-packages\\tensorflow\\python\\framework\\dtypes.py:527: FutureWarning: Passing (type, 1) or '1type' as a synonym of type is deprecated; in a future version of numpy, it will be understood as (type, (1,)) / '(1,)type'.\n",
      "  _np_qint32 = np.dtype([(\"qint32\", np.int32, 1)])\n",
      "C:\\Users\\Richard\\anaconda3\\envs\\tensorflowgpu\\lib\\site-packages\\tensorflow\\python\\framework\\dtypes.py:532: FutureWarning: Passing (type, 1) or '1type' as a synonym of type is deprecated; in a future version of numpy, it will be understood as (type, (1,)) / '(1,)type'.\n",
      "  np_resource = np.dtype([(\"resource\", np.ubyte, 1)])\n"
     ]
    }
   ],
   "source": [
    "import os\n",
    "import keras\n",
    "import itertools\n",
    "# Disable GPU\n",
    "os.environ[\"CUDA_VISIBLE_DEVICES\"] = \"0\""
   ]
  },
  {
   "cell_type": "code",
   "execution_count": 2,
   "metadata": {},
   "outputs": [],
   "source": [
    "train, test = keras.datasets.cifar10.load_data()"
   ]
  },
  {
   "cell_type": "code",
   "execution_count": 3,
   "metadata": {},
   "outputs": [],
   "source": [
    "## 資料前處理\n",
    "def preproc_x(x, flatten=True):\n",
    "    x = x / 255.\n",
    "    if flatten:\n",
    "        x = x.reshape((len(x), -1))\n",
    "    return x\n",
    "\n",
    "def preproc_y(y, num_classes=10):\n",
    "    if y.shape[-1] == 1:\n",
    "        y = keras.utils.to_categorical(y, num_classes)\n",
    "    return y    "
   ]
  },
  {
   "cell_type": "code",
   "execution_count": 4,
   "metadata": {},
   "outputs": [],
   "source": [
    "x_train, y_train = train\n",
    "x_test, y_test = test\n",
    "\n",
    "# Preproc the inputs\n",
    "x_train = preproc_x(x_train)\n",
    "x_test = preproc_x(x_test)\n",
    "\n",
    "# Preprc the outputs\n",
    "y_train = preproc_y(y_train)\n",
    "y_test = preproc_y(y_test)"
   ]
  },
  {
   "cell_type": "code",
   "execution_count": 5,
   "metadata": {},
   "outputs": [],
   "source": [
    "from keras.layers import Dropout\n",
    "\n",
    "def build_mlp(input_shape, output_units=10, num_neurons=[512, 256, 128], drp_ratio=0.2):\n",
    "    input_layer = keras.layers.Input(input_shape)\n",
    "    \n",
    "    for i, n_units in enumerate(num_neurons):\n",
    "        if i == 0:\n",
    "            x = keras.layers.Dense(units=n_units, \n",
    "                                   activation=\"relu\", \n",
    "                                   name=\"hidden_layer\"+str(i+1))(input_layer)\n",
    "            x = Dropout(drp_ratio)(x)\n",
    "        else:\n",
    "            x = keras.layers.Dense(units=n_units, \n",
    "                                   activation=\"relu\", \n",
    "                                   name=\"hidden_layer\"+str(i+1))(x)\n",
    "            x = Dropout(drp_ratio)(x)\n",
    "    \n",
    "    out = keras.layers.Dense(units=output_units, activation=\"softmax\", name=\"output\")(x)\n",
    "    \n",
    "    model = keras.models.Model(inputs=[input_layer], outputs=[out])\n",
    "    return model"
   ]
  },
  {
   "cell_type": "code",
   "execution_count": 6,
   "metadata": {},
   "outputs": [],
   "source": [
    "## 超參數設定\n",
    "LEARNING_RATE = 1e-3\n",
    "EPOCHS = 50\n",
    "BATCH_SIZE = 256\n",
    "MOMENTUM = 0.95\n",
    "Dropout_EXP = 0.5"
   ]
  },
  {
   "cell_type": "code",
   "execution_count": 7,
   "metadata": {
    "scrolled": true
   },
   "outputs": [
    {
     "name": "stdout",
     "output_type": "stream",
     "text": [
      "_________________________________________________________________\n",
      "Layer (type)                 Output Shape              Param #   \n",
      "=================================================================\n",
      "input_1 (InputLayer)         (None, 3072)              0         \n",
      "_________________________________________________________________\n",
      "hidden_layer1 (Dense)        (None, 512)               1573376   \n",
      "_________________________________________________________________\n",
      "dropout_1 (Dropout)          (None, 512)               0         \n",
      "_________________________________________________________________\n",
      "hidden_layer2 (Dense)        (None, 256)               131328    \n",
      "_________________________________________________________________\n",
      "dropout_2 (Dropout)          (None, 256)               0         \n",
      "_________________________________________________________________\n",
      "hidden_layer3 (Dense)        (None, 128)               32896     \n",
      "_________________________________________________________________\n",
      "dropout_3 (Dropout)          (None, 128)               0         \n",
      "_________________________________________________________________\n",
      "output (Dense)               (None, 10)                1290      \n",
      "=================================================================\n",
      "Total params: 1,738,890\n",
      "Trainable params: 1,738,890\n",
      "Non-trainable params: 0\n",
      "_________________________________________________________________\n",
      "Train on 50000 samples, validate on 10000 samples\n",
      "Epoch 1/50\n",
      "50000/50000 [==============================] - 4s 83us/step - loss: 2.2238 - acc: 0.1553 - val_loss: 2.0638 - val_acc: 0.2329\n",
      "Epoch 2/50\n",
      "50000/50000 [==============================] - 2s 45us/step - loss: 2.0901 - acc: 0.1955 - val_loss: 2.0199 - val_acc: 0.2353\n",
      "Epoch 3/50\n",
      "50000/50000 [==============================] - 2s 46us/step - loss: 2.0553 - acc: 0.2149 - val_loss: 2.0229 - val_acc: 0.2561\n",
      "Epoch 4/50\n",
      "50000/50000 [==============================] - 2s 46us/step - loss: 2.0311 - acc: 0.2204 - val_loss: 2.0369 - val_acc: 0.2493\n",
      "Epoch 5/50\n",
      "50000/50000 [==============================] - 2s 47us/step - loss: 2.0136 - acc: 0.2298 - val_loss: 1.9906 - val_acc: 0.2503\n",
      "Epoch 6/50\n",
      "50000/50000 [==============================] - 2s 45us/step - loss: 2.0106 - acc: 0.2320 - val_loss: 2.0039 - val_acc: 0.2654\n",
      "Epoch 7/50\n",
      "50000/50000 [==============================] - 2s 45us/step - loss: 2.0024 - acc: 0.2325 - val_loss: 1.9811 - val_acc: 0.2752\n",
      "Epoch 8/50\n",
      "50000/50000 [==============================] - 2s 46us/step - loss: 1.9958 - acc: 0.2391 - val_loss: 2.0157 - val_acc: 0.2506\n",
      "Epoch 9/50\n",
      "50000/50000 [==============================] - 2s 47us/step - loss: 1.9907 - acc: 0.2391 - val_loss: 1.9865 - val_acc: 0.2747\n",
      "Epoch 10/50\n",
      "50000/50000 [==============================] - 2s 46us/step - loss: 1.9862 - acc: 0.2472 - val_loss: 1.9715 - val_acc: 0.2675\n",
      "Epoch 11/50\n",
      "50000/50000 [==============================] - 2s 46us/step - loss: 1.9868 - acc: 0.2416 - val_loss: 1.9962 - val_acc: 0.2542\n",
      "Epoch 12/50\n",
      "50000/50000 [==============================] - 2s 46us/step - loss: 1.9808 - acc: 0.2444 - val_loss: 1.9986 - val_acc: 0.2538\n",
      "Epoch 13/50\n",
      "50000/50000 [==============================] - 2s 46us/step - loss: 1.9770 - acc: 0.2464 - val_loss: 1.9817 - val_acc: 0.2798\n",
      "Epoch 14/50\n",
      "50000/50000 [==============================] - 2s 46us/step - loss: 1.9750 - acc: 0.2506 - val_loss: 1.9962 - val_acc: 0.2631\n",
      "Epoch 15/50\n",
      "50000/50000 [==============================] - 2s 46us/step - loss: 1.9687 - acc: 0.2519 - val_loss: 1.9986 - val_acc: 0.2685\n",
      "Epoch 16/50\n",
      "50000/50000 [==============================] - 2s 46us/step - loss: 1.9702 - acc: 0.2497 - val_loss: 1.9977 - val_acc: 0.2690\n",
      "Epoch 17/50\n",
      "50000/50000 [==============================] - 2s 46us/step - loss: 1.9623 - acc: 0.2549 - val_loss: 1.9787 - val_acc: 0.2667\n",
      "Epoch 18/50\n",
      "50000/50000 [==============================] - 2s 46us/step - loss: 1.9576 - acc: 0.2573 - val_loss: 1.9736 - val_acc: 0.2751\n",
      "Epoch 19/50\n",
      "50000/50000 [==============================] - 2s 46us/step - loss: 1.9608 - acc: 0.2588 - val_loss: 1.9895 - val_acc: 0.2574\n",
      "Epoch 20/50\n",
      "50000/50000 [==============================] - 2s 46us/step - loss: 1.9604 - acc: 0.2551 - val_loss: 1.9984 - val_acc: 0.2637\n",
      "Epoch 21/50\n",
      "50000/50000 [==============================] - 2s 46us/step - loss: 1.9583 - acc: 0.2593 - val_loss: 1.9923 - val_acc: 0.2597\n",
      "Epoch 22/50\n",
      "50000/50000 [==============================] - 2s 47us/step - loss: 1.9585 - acc: 0.2586 - val_loss: 2.0026 - val_acc: 0.2561\n",
      "Epoch 23/50\n",
      "50000/50000 [==============================] - 2s 46us/step - loss: 1.9620 - acc: 0.2556 - val_loss: 1.9805 - val_acc: 0.2616\n",
      "Epoch 24/50\n",
      "50000/50000 [==============================] - 2s 46us/step - loss: 1.9506 - acc: 0.2634 - val_loss: 1.9679 - val_acc: 0.2803\n",
      "Epoch 25/50\n",
      "50000/50000 [==============================] - 2s 46us/step - loss: 1.9587 - acc: 0.2577 - val_loss: 1.9946 - val_acc: 0.2606\n",
      "Epoch 26/50\n",
      "50000/50000 [==============================] - 2s 47us/step - loss: 1.9466 - acc: 0.2646 - val_loss: 2.0511 - val_acc: 0.2489\n",
      "Epoch 27/50\n",
      "50000/50000 [==============================] - 2s 49us/step - loss: 1.9523 - acc: 0.2587 - val_loss: 2.0217 - val_acc: 0.2449\n",
      "Epoch 28/50\n",
      "50000/50000 [==============================] - 2s 47us/step - loss: 1.9501 - acc: 0.2634 - val_loss: 1.9983 - val_acc: 0.2561\n",
      "Epoch 29/50\n",
      "50000/50000 [==============================] - 2s 47us/step - loss: 1.9482 - acc: 0.2622 - val_loss: 2.0165 - val_acc: 0.2549\n",
      "Epoch 30/50\n",
      "50000/50000 [==============================] - 2s 46us/step - loss: 1.9409 - acc: 0.2700 - val_loss: 1.9962 - val_acc: 0.2612\n",
      "Epoch 31/50\n",
      "50000/50000 [==============================] - 2s 46us/step - loss: 1.9442 - acc: 0.2663 - val_loss: 1.9819 - val_acc: 0.2698\n",
      "Epoch 32/50\n",
      "50000/50000 [==============================] - 2s 50us/step - loss: 1.9390 - acc: 0.2668 - val_loss: 1.9938 - val_acc: 0.2788\n",
      "Epoch 33/50\n",
      "50000/50000 [==============================] - 2s 50us/step - loss: 1.9374 - acc: 0.2728 - val_loss: 1.9849 - val_acc: 0.2758\n",
      "Epoch 34/50\n",
      "50000/50000 [==============================] - 2s 49us/step - loss: 1.9378 - acc: 0.2688 - val_loss: 1.9662 - val_acc: 0.2884\n",
      "Epoch 35/50\n",
      "50000/50000 [==============================] - 2s 50us/step - loss: 1.9366 - acc: 0.2720 - val_loss: 1.9714 - val_acc: 0.2719\n",
      "Epoch 36/50\n",
      "50000/50000 [==============================] - 3s 50us/step - loss: 1.9373 - acc: 0.2706 - val_loss: 2.0156 - val_acc: 0.2566\n",
      "Epoch 37/50\n",
      "50000/50000 [==============================] - 2s 49us/step - loss: 1.9315 - acc: 0.2739 - val_loss: 1.9860 - val_acc: 0.2967\n",
      "Epoch 38/50\n",
      "50000/50000 [==============================] - 2s 49us/step - loss: 1.9320 - acc: 0.2759 - val_loss: 2.0332 - val_acc: 0.2689\n",
      "Epoch 39/50\n",
      "50000/50000 [==============================] - 2s 49us/step - loss: 1.9284 - acc: 0.2706 - val_loss: 1.9900 - val_acc: 0.2776\n",
      "Epoch 40/50\n",
      "50000/50000 [==============================] - 2s 50us/step - loss: 1.9291 - acc: 0.2744 - val_loss: 1.9802 - val_acc: 0.2747\n",
      "Epoch 41/50\n",
      "50000/50000 [==============================] - 2s 47us/step - loss: 1.9272 - acc: 0.2746 - val_loss: 1.9997 - val_acc: 0.2742\n",
      "Epoch 42/50\n",
      "50000/50000 [==============================] - 2s 48us/step - loss: 1.9227 - acc: 0.2789 - val_loss: 2.0122 - val_acc: 0.2805\n",
      "Epoch 43/50\n",
      "50000/50000 [==============================] - 2s 49us/step - loss: 1.9251 - acc: 0.2802 - val_loss: 2.0165 - val_acc: 0.2578\n",
      "Epoch 44/50\n",
      "50000/50000 [==============================] - 2s 49us/step - loss: 1.9268 - acc: 0.2739 - val_loss: 1.9935 - val_acc: 0.2856\n",
      "Epoch 45/50\n",
      "50000/50000 [==============================] - 2s 49us/step - loss: 1.9281 - acc: 0.2751 - val_loss: 1.9570 - val_acc: 0.2903\n",
      "Epoch 46/50\n",
      "50000/50000 [==============================] - 2s 49us/step - loss: 1.9203 - acc: 0.2798 - val_loss: 2.0038 - val_acc: 0.2727\n",
      "Epoch 47/50\n",
      "50000/50000 [==============================] - 2s 49us/step - loss: 1.9195 - acc: 0.2775 - val_loss: 2.0478 - val_acc: 0.2540\n",
      "Epoch 48/50\n",
      "50000/50000 [==============================] - 2s 49us/step - loss: 1.9172 - acc: 0.2817 - val_loss: 1.9761 - val_acc: 0.2767\n",
      "Epoch 49/50\n",
      "50000/50000 [==============================] - 2s 48us/step - loss: 1.9151 - acc: 0.2824 - val_loss: 1.9911 - val_acc: 0.2582\n",
      "Epoch 50/50\n",
      "50000/50000 [==============================] - 2s 46us/step - loss: 1.9163 - acc: 0.2798 - val_loss: 1.9833 - val_acc: 0.2840\n"
     ]
    }
   ],
   "source": [
    "model = build_mlp(input_shape=x_train.shape[1:], drp_ratio=Dropout_EXP)\n",
    "model.summary()\n",
    "#optimizer = keras.optimizers.SGD(lr=LEARNING_RATE, nesterov=True, momentum=MOMENTUM)\n",
    "model.compile(loss=\"categorical_crossentropy\", metrics=[\"accuracy\"], optimizer='adam')\n",
    "\n",
    "model.fit(x_train, y_train, \n",
    "          epochs=EPOCHS, \n",
    "          batch_size=BATCH_SIZE, \n",
    "          validation_data=(x_test, y_test), \n",
    "          shuffle=True)\n",
    "\n",
    "# Collect results\n",
    "train_loss = model.history.history[\"loss\"]\n",
    "valid_loss = model.history.history[\"val_loss\"]\n",
    "train_acc = model.history.history[\"acc\"]\n",
    "valid_acc = model.history.history[\"val_acc\"]"
   ]
  },
  {
   "cell_type": "code",
   "execution_count": 14,
   "metadata": {},
   "outputs": [
    {
     "data": {
      "image/png": "[encoded data removed]",
      "text/plain": [
       "<Figure size 432x288 with 1 Axes>"
      ]
     },
     "metadata": {
      "needs_background": "light"
     },
     "output_type": "display_data"
    },
    {
     "data": {
      "image/png": "[encoded data removed]",
      "text/plain": [
       "<Figure size 432x288 with 1 Axes>"
      ]
     },
     "metadata": {
      "needs_background": "light"
     },
     "output_type": "display_data"
    }
   ],
   "source": [
    "import matplotlib.pyplot as plt\n",
    "%matplotlib inline\n",
    "\n",
    "plt.plot(range(len(train_loss)), train_loss, label=\"train loss\")\n",
    "plt.plot(range(len(valid_loss)), valid_loss, label=\"valid loss\")\n",
    "plt.legend()\n",
    "plt.title(\"Loss\")\n",
    "plt.show()\n",
    "\n",
    "plt.plot(range(len(train_acc)), train_acc, label=\"train accuracy\")\n",
    "plt.plot(range(len(valid_acc)), valid_acc, label=\"valid accuracy\")\n",
    "plt.legend()\n",
    "plt.title(\"Accuracy\")\n",
    "plt.show()"
   ]
  },
  {
   "cell_type": "code",
   "execution_count": null,
   "metadata": {},
   "outputs": [],
   "source": []
  }
 ],
 "metadata": {
  "kernelspec": {
   "display_name": "tensorflowgpu",
   "language": "python",
   "name": "tensorflowgpu"
  },
  "language_info": {
   "codemirror_mode": {
    "name": "ipython",
    "version": 3
   },
   "file_extension": ".py",
   "mimetype": "text/x-python",
   "name": "python",
   "nbconvert_exporter": "python",
   "pygments_lexer": "ipython3",
   "version": "3.6.4"
  }
 },
 "nbformat": 4,
 "nbformat_minor": 4
}
