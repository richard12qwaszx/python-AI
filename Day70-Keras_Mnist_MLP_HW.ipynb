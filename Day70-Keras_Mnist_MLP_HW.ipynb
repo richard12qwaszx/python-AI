{
 "cells": [
  {
   "cell_type": "markdown",
   "metadata": {},
   "source": [
    "# 作業目標:¶\n",
    "利用手寫辨識資料說明MLP 中, 神經網路層的多寡跟預測結果的差異"
   ]
  },
  {
   "cell_type": "markdown",
   "metadata": {},
   "source": [
    "# 作業重點:\n",
    "[練習]請嘗試新增一層或兩層看看最後預測結果是否有差異\n",
    "model.add(Dense(units=256, input_dim=784, kernel_initializer='normal', activation='relu'))\n"
   ]
  },
  {
   "cell_type": "markdown",
   "metadata": {
    "colab_type": "text",
    "id": "zfI5zCjRPlnc"
   },
   "source": [
    "# 資料預處理"
   ]
  },
  {
   "cell_type": "code",
   "execution_count": 1,
   "metadata": {
    "colab": {
     "autoexec": {
      "startup": false,
      "wait_interval": 0
     },
     "base_uri": "https://localhost:8080/",
     "height": 34
    },
    "colab_type": "code",
    "executionInfo": {
     "elapsed": 20601,
     "status": "ok",
     "timestamp": 1533441753568,
     "user": {
      "displayName": "Edward Cheng",
      "photoUrl": "//lh4.googleusercontent.com/-ANnwjGu3IBk/AAAAAAAAAAI/AAAAAAAAAAc/qXXg6Jek9xw/s50-c-k-no/photo.jpg",
      "userId": "112554017642991017343"
     },
     "user_tz": -480
    },
    "id": "GyIQ7tpGPlnf",
    "outputId": "f3642b99-3ef2-43fe-ee42-e17b1ef50cbb"
   },
   "outputs": [
    {
     "name": "stderr",
     "output_type": "stream",
     "text": [
      "Using TensorFlow backend.\n",
      "C:\\Users\\Richard\\anaconda3\\envs\\tensorflowgpu\\lib\\site-packages\\tensorflow\\python\\framework\\dtypes.py:523: FutureWarning: Passing (type, 1) or '1type' as a synonym of type is deprecated; in a future version of numpy, it will be understood as (type, (1,)) / '(1,)type'.\n",
      "  _np_qint8 = np.dtype([(\"qint8\", np.int8, 1)])\n",
      "C:\\Users\\Richard\\anaconda3\\envs\\tensorflowgpu\\lib\\site-packages\\tensorflow\\python\\framework\\dtypes.py:524: FutureWarning: Passing (type, 1) or '1type' as a synonym of type is deprecated; in a future version of numpy, it will be understood as (type, (1,)) / '(1,)type'.\n",
      "  _np_quint8 = np.dtype([(\"quint8\", np.uint8, 1)])\n",
      "C:\\Users\\Richard\\anaconda3\\envs\\tensorflowgpu\\lib\\site-packages\\tensorflow\\python\\framework\\dtypes.py:525: FutureWarning: Passing (type, 1) or '1type' as a synonym of type is deprecated; in a future version of numpy, it will be understood as (type, (1,)) / '(1,)type'.\n",
      "  _np_qint16 = np.dtype([(\"qint16\", np.int16, 1)])\n",
      "C:\\Users\\Richard\\anaconda3\\envs\\tensorflowgpu\\lib\\site-packages\\tensorflow\\python\\framework\\dtypes.py:526: FutureWarning: Passing (type, 1) or '1type' as a synonym of type is deprecated; in a future version of numpy, it will be understood as (type, (1,)) / '(1,)type'.\n",
      "  _np_quint16 = np.dtype([(\"quint16\", np.uint16, 1)])\n",
      "C:\\Users\\Richard\\anaconda3\\envs\\tensorflowgpu\\lib\\site-packages\\tensorflow\\python\\framework\\dtypes.py:527: FutureWarning: Passing (type, 1) or '1type' as a synonym of type is deprecated; in a future version of numpy, it will be understood as (type, (1,)) / '(1,)type'.\n",
      "  _np_qint32 = np.dtype([(\"qint32\", np.int32, 1)])\n",
      "C:\\Users\\Richard\\anaconda3\\envs\\tensorflowgpu\\lib\\site-packages\\tensorflow\\python\\framework\\dtypes.py:532: FutureWarning: Passing (type, 1) or '1type' as a synonym of type is deprecated; in a future version of numpy, it will be understood as (type, (1,)) / '(1,)type'.\n",
      "  np_resource = np.dtype([(\"resource\", np.ubyte, 1)])\n"
     ]
    }
   ],
   "source": [
    "from keras.utils import np_utils\n",
    "import numpy as np\n",
    "np.random.seed(10)"
   ]
  },
  {
   "cell_type": "code",
   "execution_count": 2,
   "metadata": {
    "colab": {
     "autoexec": {
      "startup": false,
      "wait_interval": 0
     },
     "base_uri": "https://localhost:8080/",
     "height": 51
    },
    "colab_type": "code",
    "executionInfo": {
     "elapsed": 5937,
     "status": "ok",
     "timestamp": 1533441759521,
     "user": {
      "displayName": "Edward Cheng",
      "photoUrl": "//lh4.googleusercontent.com/-ANnwjGu3IBk/AAAAAAAAAAI/AAAAAAAAAAc/qXXg6Jek9xw/s50-c-k-no/photo.jpg",
      "userId": "112554017642991017343"
     },
     "user_tz": -480
    },
    "id": "OLzoKlJRPlno",
    "outputId": "c75f10a4-951d-4b3b-ad5f-c8fc4dff0e96"
   },
   "outputs": [],
   "source": [
    "#載入手寫辨識的資料集\n",
    "from keras.datasets import mnist\n",
    "(x_train_image,y_train_label),\\\n",
    "(x_test_image,y_test_label)= mnist.load_data()"
   ]
  },
  {
   "cell_type": "code",
   "execution_count": 3,
   "metadata": {
    "colab": {
     "autoexec": {
      "startup": false,
      "wait_interval": 0
     }
    },
    "colab_type": "code",
    "id": "QEuQwa4nPlnu"
   },
   "outputs": [],
   "source": [
    "#指定測試集與訓練資料集\n",
    "x_Train =x_train_image.reshape(60000, 784).astype('float32')\n",
    "x_Test = x_test_image.reshape(10000, 784).astype('float32')"
   ]
  },
  {
   "cell_type": "code",
   "execution_count": 4,
   "metadata": {
    "colab": {
     "autoexec": {
      "startup": false,
      "wait_interval": 0
     }
    },
    "colab_type": "code",
    "id": "YisRq-SxPln0"
   },
   "outputs": [],
   "source": [
    "# normalize inputs from 0-255 to 0-1\n",
    "x_Train_normalize = x_Train / 255\n",
    "x_Test_normalize = x_Test / 255"
   ]
  },
  {
   "cell_type": "code",
   "execution_count": 5,
   "metadata": {
    "colab": {
     "autoexec": {
      "startup": false,
      "wait_interval": 0
     }
    },
    "colab_type": "code",
    "id": "AHtfmzpfPln4"
   },
   "outputs": [],
   "source": [
    "#把LABEL轉成NUMERICAL Categorical \n",
    "y_Train_OneHot = np_utils.to_categorical(y_train_label)\n",
    "y_Test_OneHot = np_utils.to_categorical(y_test_label)"
   ]
  },
  {
   "cell_type": "markdown",
   "metadata": {
    "colab_type": "text",
    "id": "0s8PjvqJPln7"
   },
   "source": [
    "# 建立模型"
   ]
  },
  {
   "cell_type": "code",
   "execution_count": 6,
   "metadata": {
    "colab": {
     "autoexec": {
      "startup": false,
      "wait_interval": 0
     }
    },
    "colab_type": "code",
    "id": "N10v1eX2Pln8"
   },
   "outputs": [],
   "source": [
    "from keras.models import Sequential\n",
    "from keras.layers import Dense"
   ]
  },
  {
   "cell_type": "code",
   "execution_count": 7,
   "metadata": {
    "colab": {
     "autoexec": {
      "startup": false,
      "wait_interval": 0
     }
    },
    "colab_type": "code",
    "id": "jmaxrsXwPln-"
   },
   "outputs": [],
   "source": [
    "#建立模型"
   ]
  },
  {
   "cell_type": "code",
   "execution_count": 8,
   "metadata": {},
   "outputs": [],
   "source": [
    "model = Sequential()"
   ]
  },
  {
   "cell_type": "code",
   "execution_count": 10,
   "metadata": {},
   "outputs": [],
   "source": [
    "model.add(Dense(units=256, \n",
    "                input_dim=784, \n",
    "                kernel_initializer='normal', \n",
    "                activation='relu'))\n",
    "model.add(Dense(units=128, \n",
    "                input_dim=784, \n",
    "                kernel_initializer='normal', \n",
    "                activation='relu'))\n",
    "model.add(Dense(64,  input_dim=784, kernel_initializer='normal', activation='relu'))"
   ]
  },
  {
   "cell_type": "code",
   "execution_count": 11,
   "metadata": {},
   "outputs": [],
   "source": [
    "#建構輸出層\n",
    "model.add(Dense(units=10, \n",
    "                kernel_initializer='normal', \n",
    "                activation='softmax'))"
   ]
  },
  {
   "cell_type": "code",
   "execution_count": 12,
   "metadata": {},
   "outputs": [
    {
     "name": "stdout",
     "output_type": "stream",
     "text": [
      "_________________________________________________________________\n",
      "Layer (type)                 Output Shape              Param #   \n",
      "=================================================================\n",
      "dense_1 (Dense)              (None, 256)               200960    \n",
      "_________________________________________________________________\n",
      "dense_2 (Dense)              (None, 128)               32896     \n",
      "_________________________________________________________________\n",
      "dense_3 (Dense)              (None, 64)                8256      \n",
      "_________________________________________________________________\n",
      "dense_4 (Dense)              (None, 10)                650       \n",
      "=================================================================\n",
      "Total params: 242,762\n",
      "Trainable params: 242,762\n",
      "Non-trainable params: 0\n",
      "_________________________________________________________________\n",
      "None\n"
     ]
    }
   ],
   "source": [
    "print(model.summary())"
   ]
  },
  {
   "cell_type": "markdown",
   "metadata": {
    "colab_type": "text",
    "id": "jdoAZgv1PloK"
   },
   "source": [
    "# 訓練模型"
   ]
  },
  {
   "cell_type": "code",
   "execution_count": 13,
   "metadata": {
    "colab": {
     "autoexec": {
      "startup": false,
      "wait_interval": 0
     }
    },
    "colab_type": "code",
    "id": "5d5wrEL3PloK"
   },
   "outputs": [],
   "source": [
    "model.compile(loss='categorical_crossentropy', \n",
    "              optimizer='adam', metrics=['accuracy'])"
   ]
  },
  {
   "cell_type": "code",
   "execution_count": 14,
   "metadata": {
    "colab": {
     "autoexec": {
      "startup": false,
      "wait_interval": 0
     },
     "base_uri": "https://localhost:8080/",
     "height": 374
    },
    "colab_type": "code",
    "executionInfo": {
     "elapsed": 15426,
     "status": "ok",
     "timestamp": 1533441786624,
     "user": {
      "displayName": "Edward Cheng",
      "photoUrl": "//lh4.googleusercontent.com/-ANnwjGu3IBk/AAAAAAAAAAI/AAAAAAAAAAc/qXXg6Jek9xw/s50-c-k-no/photo.jpg",
      "userId": "112554017642991017343"
     },
     "user_tz": -480
    },
    "id": "VlpjoqQ9PloM",
    "outputId": "b91454c9-af9a-40fe-9736-b4a1c97462cd"
   },
   "outputs": [
    {
     "name": "stdout",
     "output_type": "stream",
     "text": [
      "Train on 48000 samples, validate on 12000 samples\n",
      "Epoch 1/10\n",
      "48000/48000 [==============================] - 6s 132us/step - loss: 0.2808 - acc: 0.9166 - val_loss: 0.1206 - val_acc: 0.9633\n",
      "Epoch 2/10\n",
      "48000/48000 [==============================] - 5s 103us/step - loss: 0.1069 - acc: 0.9677 - val_loss: 0.0956 - val_acc: 0.9712\n",
      "Epoch 3/10\n",
      "48000/48000 [==============================] - 5s 102us/step - loss: 0.0719 - acc: 0.9774 - val_loss: 0.0975 - val_acc: 0.9721\n",
      "Epoch 4/10\n",
      "48000/48000 [==============================] - 5s 98us/step - loss: 0.0526 - acc: 0.9832 - val_loss: 0.1156 - val_acc: 0.9689\n",
      "Epoch 5/10\n",
      "48000/48000 [==============================] - 5s 103us/step - loss: 0.0424 - acc: 0.9865 - val_loss: 0.0969 - val_acc: 0.9740\n",
      "Epoch 6/10\n",
      "48000/48000 [==============================] - 5s 103us/step - loss: 0.0357 - acc: 0.9886 - val_loss: 0.1038 - val_acc: 0.9721\n",
      "Epoch 7/10\n",
      "48000/48000 [==============================] - 5s 102us/step - loss: 0.0301 - acc: 0.9899 - val_loss: 0.0910 - val_acc: 0.9763\n",
      "Epoch 8/10\n",
      "48000/48000 [==============================] - 5s 103us/step - loss: 0.0265 - acc: 0.9914 - val_loss: 0.1039 - val_acc: 0.9760\n",
      "Epoch 9/10\n",
      "48000/48000 [==============================] - 5s 103us/step - loss: 0.0221 - acc: 0.9931 - val_loss: 0.0903 - val_acc: 0.9802\n",
      "Epoch 10/10\n",
      "48000/48000 [==============================] - 5s 102us/step - loss: 0.0196 - acc: 0.9941 - val_loss: 0.0987 - val_acc: 0.9770\n"
     ]
    }
   ],
   "source": [
    "train_history =model.fit(x=x_Train_normalize,\n",
    "                         y=y_Train_OneHot,validation_split=0.2, \n",
    "                         epochs=10, batch_size=32,verbose=1)"
   ]
  },
  {
   "cell_type": "markdown",
   "metadata": {
    "colab_type": "text",
    "id": "pV1Ftdb0PloP"
   },
   "source": [
    "# 以圖形顯示訓練過程"
   ]
  },
  {
   "cell_type": "code",
   "execution_count": 15,
   "metadata": {
    "colab": {
     "autoexec": {
      "startup": false,
      "wait_interval": 0
     }
    },
    "colab_type": "code",
    "id": "EEmuoa1dPloQ"
   },
   "outputs": [],
   "source": [
    "import matplotlib.pyplot as plt\n",
    "def show_train_history(train_history,train,validation):\n",
    "    plt.plot(train_history.history[train])\n",
    "    plt.plot(train_history.history[validation])\n",
    "    plt.title('Train History')\n",
    "    plt.ylabel(train)\n",
    "    plt.xlabel('Epoch')\n",
    "    plt.legend(['train', 'validation'], loc='upper left')\n",
    "    plt.show()"
   ]
  },
  {
   "cell_type": "code",
   "execution_count": 16,
   "metadata": {
    "colab": {
     "autoexec": {
      "startup": false,
      "wait_interval": 0
     },
     "base_uri": "https://localhost:8080/",
     "height": 376
    },
    "colab_type": "code",
    "executionInfo": {
     "elapsed": 1451,
     "status": "ok",
     "timestamp": 1533441789030,
     "user": {
      "displayName": "Edward Cheng",
      "photoUrl": "//lh4.googleusercontent.com/-ANnwjGu3IBk/AAAAAAAAAAI/AAAAAAAAAAc/qXXg6Jek9xw/s50-c-k-no/photo.jpg",
      "userId": "112554017642991017343"
     },
     "user_tz": -480
    },
    "id": "fvE2WsejPloT",
    "outputId": "bb56e170-8850-409e-bbb2-eb6b5b89e528"
   },
   "outputs": [
    {
     "data": {
      "image/png": "[encoded data removed]",
      "text/plain": [
       "<Figure size 432x288 with 1 Axes>"
      ]
     },
     "metadata": {
      "needs_background": "light"
     },
     "output_type": "display_data"
    }
   ],
   "source": [
    "show_train_history(train_history,'acc','val_acc')"
   ]
  },
  {
   "cell_type": "code",
   "execution_count": 17,
   "metadata": {
    "colab": {
     "autoexec": {
      "startup": false,
      "wait_interval": 0
     },
     "base_uri": "https://localhost:8080/",
     "height": 376
    },
    "colab_type": "code",
    "executionInfo": {
     "elapsed": 1937,
     "status": "ok",
     "timestamp": 1533441791049,
     "user": {
      "displayName": "Edward Cheng",
      "photoUrl": "//lh4.googleusercontent.com/-ANnwjGu3IBk/AAAAAAAAAAI/AAAAAAAAAAc/qXXg6Jek9xw/s50-c-k-no/photo.jpg",
      "userId": "112554017642991017343"
     },
     "user_tz": -480
    },
    "id": "zIYyrnFWPloW",
    "outputId": "4bdbd1fa-6f25-49af-88d0-8d35f6e2ecaa"
   },
   "outputs": [
    {
     "data": {
      "image/png": "[encoded data removed]",
      "text/plain": [
       "<Figure size 432x288 with 1 Axes>"
      ]
     },
     "metadata": {
      "needs_background": "light"
     },
     "output_type": "display_data"
    }
   ],
   "source": [
    "show_train_history(train_history,'loss','val_loss')"
   ]
  },
  {
   "cell_type": "markdown",
   "metadata": {
    "colab_type": "text",
    "id": "h1z2y0g-PloZ"
   },
   "source": [
    "# 評估模型準確率"
   ]
  },
  {
   "cell_type": "code",
   "execution_count": 18,
   "metadata": {
    "colab": {
     "autoexec": {
      "startup": false,
      "wait_interval": 0
     },
     "base_uri": "https://localhost:8080/",
     "height": 68
    },
    "colab_type": "code",
    "executionInfo": {
     "elapsed": 1425,
     "status": "ok",
     "timestamp": 1533441792584,
     "user": {
      "displayName": "Edward Cheng",
      "photoUrl": "//lh4.googleusercontent.com/-ANnwjGu3IBk/AAAAAAAAAAI/AAAAAAAAAAc/qXXg6Jek9xw/s50-c-k-no/photo.jpg",
      "userId": "112554017642991017343"
     },
     "user_tz": -480
    },
    "id": "vMawurJqPloZ",
    "outputId": "31465f8d-cfad-49b8-dc9e-90d643e6b4a8"
   },
   "outputs": [
    {
     "name": "stdout",
     "output_type": "stream",
     "text": [
      "10000/10000 [==============================] - 0s 30us/step\n",
      "\n",
      "accuracy= 0.9799\n"
     ]
    }
   ],
   "source": [
    "scores = model.evaluate(x_Test_normalize, y_Test_OneHot)\n",
    "print()\n",
    "print('accuracy=',scores[1])"
   ]
  },
  {
   "cell_type": "code",
   "execution_count": null,
   "metadata": {},
   "outputs": [],
   "source": []
  }
 ],
 "metadata": {
  "accelerator": "GPU",
  "colab": {
   "collapsed_sections": [],
   "default_view": {},
   "name": "Keras_Mnist_MLP_h256.ipynb",
   "provenance": [],
   "version": "0.3.2",
   "views": {}
  },
  "kernelspec": {
   "display_name": "tensorflowgpu",
   "language": "python",
   "name": "tensorflowgpu"
  },
  "language_info": {
   "codemirror_mode": {
    "name": "ipython",
    "version": 3
   },
   "file_extension": ".py",
   "mimetype": "text/x-python",
   "name": "python",
   "nbconvert_exporter": "python",
   "pygments_lexer": "ipython3",
   "version": "3.6.4"
  }
 },
 "nbformat": 4,
 "nbformat_minor": 4
}
