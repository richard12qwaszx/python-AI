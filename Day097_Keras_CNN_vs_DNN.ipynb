{
 "cells": [
  {
   "cell_type": "code",
   "execution_count": 1,
   "metadata": {},
   "outputs": [
    {
     "name": "stderr",
     "output_type": "stream",
     "text": [
      "Using TensorFlow backend.\n",
      "C:\\Users\\Richard\\anaconda3\\envs\\tensorflowgpu\\lib\\site-packages\\tensorflow\\python\\framework\\dtypes.py:523: FutureWarning: Passing (type, 1) or '1type' as a synonym of type is deprecated; in a future version of numpy, it will be understood as (type, (1,)) / '(1,)type'.\n",
      "  _np_qint8 = np.dtype([(\"qint8\", np.int8, 1)])\n",
      "C:\\Users\\Richard\\anaconda3\\envs\\tensorflowgpu\\lib\\site-packages\\tensorflow\\python\\framework\\dtypes.py:524: FutureWarning: Passing (type, 1) or '1type' as a synonym of type is deprecated; in a future version of numpy, it will be understood as (type, (1,)) / '(1,)type'.\n",
      "  _np_quint8 = np.dtype([(\"quint8\", np.uint8, 1)])\n",
      "C:\\Users\\Richard\\anaconda3\\envs\\tensorflowgpu\\lib\\site-packages\\tensorflow\\python\\framework\\dtypes.py:525: FutureWarning: Passing (type, 1) or '1type' as a synonym of type is deprecated; in a future version of numpy, it will be understood as (type, (1,)) / '(1,)type'.\n",
      "  _np_qint16 = np.dtype([(\"qint16\", np.int16, 1)])\n",
      "C:\\Users\\Richard\\anaconda3\\envs\\tensorflowgpu\\lib\\site-packages\\tensorflow\\python\\framework\\dtypes.py:526: FutureWarning: Passing (type, 1) or '1type' as a synonym of type is deprecated; in a future version of numpy, it will be understood as (type, (1,)) / '(1,)type'.\n",
      "  _np_quint16 = np.dtype([(\"quint16\", np.uint16, 1)])\n",
      "C:\\Users\\Richard\\anaconda3\\envs\\tensorflowgpu\\lib\\site-packages\\tensorflow\\python\\framework\\dtypes.py:527: FutureWarning: Passing (type, 1) or '1type' as a synonym of type is deprecated; in a future version of numpy, it will be understood as (type, (1,)) / '(1,)type'.\n",
      "  _np_qint32 = np.dtype([(\"qint32\", np.int32, 1)])\n",
      "C:\\Users\\Richard\\anaconda3\\envs\\tensorflowgpu\\lib\\site-packages\\tensorflow\\python\\framework\\dtypes.py:532: FutureWarning: Passing (type, 1) or '1type' as a synonym of type is deprecated; in a future version of numpy, it will be understood as (type, (1,)) / '(1,)type'.\n",
      "  np_resource = np.dtype([(\"resource\", np.ubyte, 1)])\n"
     ]
    }
   ],
   "source": [
    "import keras\n",
    "from keras.datasets import cifar10\n",
    "from keras.preprocessing.image import ImageDataGenerator\n",
    "from keras.models import Sequential\n",
    "from keras.layers import Dense, Dropout, Activation, Flatten\n",
    "from keras.layers import Conv2D, MaxPooling2D\n",
    "from keras.optimizers import RMSprop, Adam\n",
    "import os"
   ]
  },
  {
   "cell_type": "code",
   "execution_count": 2,
   "metadata": {},
   "outputs": [
    {
     "name": "stdout",
     "output_type": "stream",
     "text": [
      "x_train shape: (50000, 32, 32, 3)\n",
      "50000 train samples\n",
      "10000 test samples\n"
     ]
    }
   ],
   "source": [
    "batch_size = 128 # batch 的大小，如果出現 OOM error，請降低這個值\n",
    "num_classes = 10 # 類別的數量，Cifar 10 共有 10 個類別\n",
    "epochs = 30 # 訓練的 epochs 數量\n",
    "\n",
    "# 讀取資料並檢視\n",
    "(x_train, y_train), (x_test, y_test) = cifar10.load_data()\n",
    "print('x_train shape:', x_train.shape)\n",
    "print(x_train.shape[0], 'train samples')\n",
    "print(x_test.shape[0], 'test samples')\n",
    "\n",
    "# 對 label 進行 one-hot encoding (y_trian 原本是純數字)\n",
    "y_train = keras.utils.to_categorical(y_train, num_classes)\n",
    "y_test = keras.utils.to_categorical(y_test, num_classes)"
   ]
  },
  {
   "cell_type": "markdown",
   "metadata": {},
   "source": [
    "## 首先我們使用一般的 DNN (MLP) 來訓練\n",
    "由於 DNN 只能輸入一維的資料，我們要先將影像進行攤平，若 (50000, 32, 32, 3) 的影像，攤平後會變成 (50000, 32*32*3) = (50000, 3072)"
   ]
  },
  {
   "cell_type": "code",
   "execution_count": 5,
   "metadata": {},
   "outputs": [
    {
     "name": "stdout",
     "output_type": "stream",
     "text": [
      "50000 train samples\n",
      "10000 test samples\n"
     ]
    }
   ],
   "source": [
    "# 將資料攤平成一維資料\n",
    "x_train = x_train.reshape(50000, 3072) \n",
    "x_test = x_test.reshape(10000, 3072)\n",
    "\n",
    "# 將資料變為 float32 並標準化\n",
    "x_train = x_train.astype('float32')\n",
    "x_test = x_test.astype('float32')\n",
    "x_train /= 255\n",
    "x_test /= 255\n",
    "print(x_train.shape[0], 'train samples')\n",
    "print(x_test.shape[0], 'test samples')"
   ]
  },
  {
   "cell_type": "code",
   "execution_count": 6,
   "metadata": {},
   "outputs": [
    {
     "name": "stdout",
     "output_type": "stream",
     "text": [
      "_________________________________________________________________\n",
      "Layer (type)                 Output Shape              Param #   \n",
      "=================================================================\n",
      "dense_4 (Dense)              (None, 512)               1573376   \n",
      "_________________________________________________________________\n",
      "dropout_3 (Dropout)          (None, 512)               0         \n",
      "_________________________________________________________________\n",
      "dense_5 (Dense)              (None, 512)               262656    \n",
      "_________________________________________________________________\n",
      "dropout_4 (Dropout)          (None, 512)               0         \n",
      "_________________________________________________________________\n",
      "dense_6 (Dense)              (None, 10)                5130      \n",
      "=================================================================\n",
      "Total params: 1,841,162\n",
      "Trainable params: 1,841,162\n",
      "Non-trainable params: 0\n",
      "_________________________________________________________________\n",
      "Train on 50000 samples, validate on 10000 samples\n",
      "Epoch 1/10\n",
      "50000/50000 [==============================] - 2s 49us/step - loss: 2.0093 - acc: 0.2628 - val_loss: 1.8896 - val_acc: 0.3148\n",
      "Epoch 2/10\n",
      "50000/50000 [==============================] - 2s 44us/step - loss: 1.8436 - acc: 0.3365 - val_loss: 1.7949 - val_acc: 0.3507\n",
      "Epoch 3/10\n",
      "50000/50000 [==============================] - 2s 44us/step - loss: 1.7567 - acc: 0.3652 - val_loss: 1.6881 - val_acc: 0.3943\n",
      "Epoch 4/10\n",
      "50000/50000 [==============================] - 2s 44us/step - loss: 1.7032 - acc: 0.3871 - val_loss: 1.6752 - val_acc: 0.3990\n",
      "Epoch 5/10\n",
      "50000/50000 [==============================] - 2s 46us/step - loss: 1.6579 - acc: 0.4041 - val_loss: 1.5986 - val_acc: 0.4326\n",
      "Epoch 6/10\n",
      "50000/50000 [==============================] - 2s 46us/step - loss: 1.6217 - acc: 0.4201 - val_loss: 1.5948 - val_acc: 0.4294\n",
      "Epoch 7/10\n",
      "50000/50000 [==============================] - 2s 44us/step - loss: 1.5884 - acc: 0.4338 - val_loss: 1.5551 - val_acc: 0.4419\n",
      "Epoch 8/10\n",
      "50000/50000 [==============================] - 2s 46us/step - loss: 1.5636 - acc: 0.4427 - val_loss: 1.5358 - val_acc: 0.4519\n",
      "Epoch 9/10\n",
      "50000/50000 [==============================] - 2s 46us/step - loss: 1.5386 - acc: 0.4529 - val_loss: 1.4906 - val_acc: 0.4747\n",
      "Epoch 10/10\n",
      "50000/50000 [==============================] - 2s 46us/step - loss: 1.5145 - acc: 0.4588 - val_loss: 1.4932 - val_acc: 0.4621\n",
      "Test loss: 1.4931920030593873\n",
      "Test accuracy: 0.4621\n"
     ]
    }
   ],
   "source": [
    "model = Sequential()\n",
    "model.add(Dense(512, activation='relu', input_shape=(3072,)))\n",
    "model.add(Dropout(0.2))\n",
    "model.add(Dense(512, activation='relu'))\n",
    "model.add(Dropout(0.2))\n",
    "model.add(Dense(num_classes, activation='softmax'))\n",
    "\n",
    "model.summary()\n",
    "\n",
    "model.compile(loss='categorical_crossentropy',\n",
    "              optimizer=RMSprop(),\n",
    "              metrics=['accuracy'])\n",
    "\n",
    "history = model.fit(x_train, y_train,\n",
    "                    batch_size=batch_size,\n",
    "                    epochs=epochs,\n",
    "                    verbose=1,\n",
    "                    validation_data=(x_test, y_test))\n",
    "score = model.evaluate(x_test, y_test, verbose=0)\n",
    "print('Test loss:', score[0])\n",
    "print('Test accuracy:', score[1])"
   ]
  },
  {
   "cell_type": "markdown",
   "metadata": {},
   "source": [
    "## 接下來我們使用 CNN 來訓練神經網路\n",
    "CNN 的原理非常適合處理影像類的資料，就讓我們來看看，同樣的訓練條件，CNN 是否顯著優於 DNN 呢?"
   ]
  },
  {
   "cell_type": "code",
   "execution_count": 3,
   "metadata": {},
   "outputs": [
    {
     "name": "stdout",
     "output_type": "stream",
     "text": [
      "x_train shape: (50000, 32, 32, 3)\n",
      "50000 train samples\n",
      "10000 test samples\n",
      "(32, 32, 3)\n"
     ]
    }
   ],
   "source": [
    "(x_train, y_train), (x_test, y_test) = cifar10.load_data()\n",
    "print('x_train shape:', x_train.shape)\n",
    "print(x_train.shape[0], 'train samples')\n",
    "print(x_test.shape[0], 'test samples')\n",
    "x_train = x_train.astype('float32')\n",
    "x_test = x_test.astype('float32')\n",
    "x_train /= 255\n",
    "x_test /= 255\n",
    "\n",
    "# Convert class vectors to binary class matrices.\n",
    "y_train = keras.utils.to_categorical(y_train, num_classes)\n",
    "y_test = keras.utils.to_categorical(y_test, num_classes)\n",
    "print(x_train.shape[1:])"
   ]
  },
  {
   "cell_type": "code",
   "execution_count": 4,
   "metadata": {},
   "outputs": [
    {
     "name": "stdout",
     "output_type": "stream",
     "text": [
      "_________________________________________________________________\n",
      "Layer (type)                 Output Shape              Param #   \n",
      "=================================================================\n",
      "conv2d_1 (Conv2D)            (None, 32, 32, 32)        2432      \n",
      "_________________________________________________________________\n",
      "activation_1 (Activation)    (None, 32, 32, 32)        0         \n",
      "_________________________________________________________________\n",
      "conv2d_2 (Conv2D)            (None, 28, 28, 32)        25632     \n",
      "_________________________________________________________________\n",
      "activation_2 (Activation)    (None, 28, 28, 32)        0         \n",
      "_________________________________________________________________\n",
      "max_pooling2d_1 (MaxPooling2 (None, 14, 14, 32)        0         \n",
      "_________________________________________________________________\n",
      "dropout_1 (Dropout)          (None, 14, 14, 32)        0         \n",
      "_________________________________________________________________\n",
      "conv2d_3 (Conv2D)            (None, 14, 14, 64)        51264     \n",
      "_________________________________________________________________\n",
      "activation_3 (Activation)    (None, 14, 14, 64)        0         \n",
      "_________________________________________________________________\n",
      "conv2d_4 (Conv2D)            (None, 10, 10, 64)        102464    \n",
      "_________________________________________________________________\n",
      "activation_4 (Activation)    (None, 10, 10, 64)        0         \n",
      "_________________________________________________________________\n",
      "max_pooling2d_2 (MaxPooling2 (None, 5, 5, 64)          0         \n",
      "_________________________________________________________________\n",
      "dropout_2 (Dropout)          (None, 5, 5, 64)          0         \n",
      "_________________________________________________________________\n",
      "flatten_1 (Flatten)          (None, 1600)              0         \n",
      "_________________________________________________________________\n",
      "dense_1 (Dense)              (None, 512)               819712    \n",
      "_________________________________________________________________\n",
      "activation_5 (Activation)    (None, 512)               0         \n",
      "_________________________________________________________________\n",
      "dropout_3 (Dropout)          (None, 512)               0         \n",
      "_________________________________________________________________\n",
      "dense_2 (Dense)              (None, 10)                5130      \n",
      "_________________________________________________________________\n",
      "activation_6 (Activation)    (None, 10)                0         \n",
      "=================================================================\n",
      "Total params: 1,006,634\n",
      "Trainable params: 1,006,634\n",
      "Non-trainable params: 0\n",
      "_________________________________________________________________\n",
      "Train on 50000 samples, validate on 10000 samples\n",
      "Epoch 1/30\n",
      "50000/50000 [==============================] - 10s 202us/step - loss: 1.8999 - acc: 0.3141 - val_loss: 1.8744 - val_acc: 0.3614\n",
      "Epoch 2/30\n",
      "50000/50000 [==============================] - 7s 148us/step - loss: 1.4043 - acc: 0.5035 - val_loss: 1.4640 - val_acc: 0.4782\n",
      "Epoch 3/30\n",
      "50000/50000 [==============================] - 7s 147us/step - loss: 1.1673 - acc: 0.5875 - val_loss: 1.0313 - val_acc: 0.6404\n",
      "Epoch 4/30\n",
      "50000/50000 [==============================] - 7s 145us/step - loss: 1.0224 - acc: 0.6441 - val_loss: 1.0043 - val_acc: 0.6508\n",
      "Epoch 5/30\n",
      "50000/50000 [==============================] - 7s 146us/step - loss: 0.9206 - acc: 0.6805 - val_loss: 0.8527 - val_acc: 0.7140\n",
      "Epoch 6/30\n",
      "50000/50000 [==============================] - 7s 146us/step - loss: 0.8443 - acc: 0.7073 - val_loss: 0.8089 - val_acc: 0.7196\n",
      "Epoch 7/30\n",
      "50000/50000 [==============================] - 7s 147us/step - loss: 0.7942 - acc: 0.7270 - val_loss: 0.8225 - val_acc: 0.7198\n",
      "Epoch 8/30\n",
      "50000/50000 [==============================] - 7s 147us/step - loss: 0.7501 - acc: 0.7416 - val_loss: 0.7834 - val_acc: 0.7392\n",
      "Epoch 9/30\n",
      "50000/50000 [==============================] - 7s 147us/step - loss: 0.7153 - acc: 0.7551 - val_loss: 0.7774 - val_acc: 0.7456\n",
      "Epoch 10/30\n",
      "50000/50000 [==============================] - 7s 149us/step - loss: 0.6944 - acc: 0.7621 - val_loss: 0.8155 - val_acc: 0.7376\n",
      "Epoch 11/30\n",
      "50000/50000 [==============================] - 7s 145us/step - loss: 0.6809 - acc: 0.7662 - val_loss: 0.9220 - val_acc: 0.7045\n",
      "Epoch 12/30\n",
      "50000/50000 [==============================] - 7s 149us/step - loss: 0.6659 - acc: 0.7737 - val_loss: 0.7787 - val_acc: 0.7567\n",
      "Epoch 13/30\n",
      "50000/50000 [==============================] - 8s 151us/step - loss: 0.6563 - acc: 0.7789 - val_loss: 0.8200 - val_acc: 0.7325\n",
      "Epoch 14/30\n",
      "50000/50000 [==============================] - 8s 153us/step - loss: 0.6479 - acc: 0.7828 - val_loss: 0.7547 - val_acc: 0.7623\n",
      "Epoch 15/30\n",
      "50000/50000 [==============================] - 8s 160us/step - loss: 0.6464 - acc: 0.7852 - val_loss: 0.8924 - val_acc: 0.7443\n",
      "Epoch 16/30\n",
      "50000/50000 [==============================] - 8s 151us/step - loss: 0.6458 - acc: 0.7859 - val_loss: 0.7912 - val_acc: 0.7512\n",
      "Epoch 17/30\n",
      "50000/50000 [==============================] - 7s 146us/step - loss: 0.6422 - acc: 0.7893 - val_loss: 1.0707 - val_acc: 0.6535\n",
      "Epoch 18/30\n",
      "50000/50000 [==============================] - 7s 147us/step - loss: 0.6502 - acc: 0.7858 - val_loss: 0.7957 - val_acc: 0.7456\n",
      "Epoch 19/30\n",
      "50000/50000 [==============================] - 7s 147us/step - loss: 0.6497 - acc: 0.7868 - val_loss: 0.7969 - val_acc: 0.7430\n",
      "Epoch 20/30\n",
      "50000/50000 [==============================] - 7s 141us/step - loss: 0.6544 - acc: 0.7868 - val_loss: 1.0929 - val_acc: 0.7254\n",
      "Epoch 21/30\n",
      "50000/50000 [==============================] - 7s 143us/step - loss: 0.6487 - acc: 0.7871 - val_loss: 0.8178 - val_acc: 0.7681\n",
      "Epoch 22/30\n",
      "50000/50000 [==============================] - 7s 149us/step - loss: 0.6498 - acc: 0.7907 - val_loss: 0.7279 - val_acc: 0.7676\n",
      "Epoch 23/30\n",
      "50000/50000 [==============================] - 7s 147us/step - loss: 0.6531 - acc: 0.7893 - val_loss: 0.8240 - val_acc: 0.7475\n",
      "Epoch 24/30\n",
      "50000/50000 [==============================] - 7s 145us/step - loss: 0.6505 - acc: 0.7898 - val_loss: 0.9613 - val_acc: 0.7619\n",
      "Epoch 25/30\n",
      "50000/50000 [==============================] - 7s 148us/step - loss: 0.6588 - acc: 0.7877 - val_loss: 0.7641 - val_acc: 0.7584\n",
      "Epoch 26/30\n",
      "50000/50000 [==============================] - 7s 147us/step - loss: 0.6616 - acc: 0.7845 - val_loss: 0.8465 - val_acc: 0.7590\n",
      "Epoch 27/30\n",
      "50000/50000 [==============================] - 7s 148us/step - loss: 0.6729 - acc: 0.7838 - val_loss: 0.8210 - val_acc: 0.7470\n",
      "Epoch 28/30\n",
      "50000/50000 [==============================] - 7s 148us/step - loss: 0.6813 - acc: 0.7829 - val_loss: 0.8060 - val_acc: 0.7516\n",
      "Epoch 29/30\n",
      "50000/50000 [==============================] - 7s 147us/step - loss: 0.6744 - acc: 0.7851 - val_loss: 0.8844 - val_acc: 0.7364\n",
      "Epoch 30/30\n",
      "50000/50000 [==============================] - 7s 146us/step - loss: 0.6900 - acc: 0.7823 - val_loss: 0.9360 - val_acc: 0.7490\n",
      "Test loss: 0.9359870213508606\n",
      "Test accuracy: 0.749\n"
     ]
    }
   ],
   "source": [
    "model = Sequential()\n",
    "model.add(Conv2D(32, (5, 5), padding='same',      # kernel size3->5\n",
    "                 input_shape=x_train.shape[1:]))\n",
    "model.add(Activation('relu'))\n",
    "model.add(Conv2D(32, (5, 5)))\n",
    "model.add(Activation('relu'))\n",
    "model.add(MaxPooling2D(pool_size=(2, 2)))\n",
    "#model.add(MaxPooling2D(pool_size=(3, 3)))\n",
    "model.add(Dropout(0.25))#0.25\n",
    "\n",
    "model.add(Conv2D(64, (5, 5), padding='same'))\n",
    "model.add(Activation('relu'))\n",
    "model.add(Conv2D(64, (5, 5)))\n",
    "model.add(Activation('relu'))\n",
    "model.add(MaxPooling2D(pool_size=(2, 2)))\n",
    "model.add(Dropout(0.25))#0.25\n",
    "\n",
    "model.add(Flatten())\n",
    "model.add(Dense(512))#512\n",
    "model.add(Activation('relu'))\n",
    "model.add(Dropout(0.5))\n",
    "model.add(Dense(num_classes))\n",
    "model.add(Activation('softmax'))\n",
    "model.summary()\n",
    "\n",
    "model.compile(loss='categorical_crossentropy',\n",
    "              optimizer=RMSprop(),#optimizer='adam'\n",
    "              metrics=['accuracy'])\n",
    "\n",
    "history = model.fit(x_train, y_train,\n",
    "                    batch_size=batch_size,\n",
    "                    epochs=epochs,\n",
    "                    verbose=1,\n",
    "                    validation_data=(x_test, y_test))\n",
    "score = model.evaluate(x_test, y_test, verbose=0)\n",
    "print('Test loss:', score[0])\n",
    "print('Test accuracy:', score[1])"
   ]
  },
  {
   "cell_type": "markdown",
   "metadata": {},
   "source": [
    "## 同樣運算 10 個 epochs，但 CNN 在 test data 的準確率顯著優於 DNN!"
   ]
  },
  {
   "cell_type": "markdown",
   "metadata": {},
   "source": [
    "## 作業\n",
    "1. 請試著調整各個超參數，並說明那些超參數對於結果有明顯的影響?\n",
    "2. CNN 與 DNN 哪個模型的參數數量比較多? 造成參數的數量不同的原因在哪?"
   ]
  },
  {
   "cell_type": "markdown",
   "metadata": {},
   "source": [
    "1.epochs=30,optimizer='adam'\n",
    "2.DNN input_shape=(3072,) CNN(32, 32, 3)，DNN的輸入是向量形式，並未考慮到平面的結構信息，在圖像和NLP領域這一結構信息尤為重要，\n",
    "例如識別圖像中的數字，同一數字與所在位置無關（換句話說任一位置的權重都應相同），\n",
    "CNN的輸入可以是tensor，例如二維矩陣，通過filter獲得局部特征，較好的保留了平面結構信息。\n"
   ]
  },
  {
   "cell_type": "code",
   "execution_count": null,
   "metadata": {},
   "outputs": [],
   "source": []
  }
 ],
 "metadata": {
  "kernelspec": {
   "display_name": "tensorflowgpu",
   "language": "python",
   "name": "tensorflowgpu"
  },
  "language_info": {
   "codemirror_mode": {
    "name": "ipython",
    "version": 3
   },
   "file_extension": ".py",
   "mimetype": "text/x-python",
   "name": "python",
   "nbconvert_exporter": "python",
   "pygments_lexer": "ipython3",
   "version": "3.6.4"
  }
 },
 "nbformat": 4,
 "nbformat_minor": 4
}
